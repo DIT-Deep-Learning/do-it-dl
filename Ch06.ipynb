{
 "cells": [
  {
   "cell_type": "markdown",
   "metadata": {},
   "source": [
    "# 6장. 두 개의 층을 연결합니다."
   ]
  },
  {
   "cell_type": "markdown",
   "metadata": {},
   "source": [
    "### <직접 해보세요!> SingleLayer 클래스를 벡터 연산으로 바꾸기"
   ]
  },
  {
   "cell_type": "code",
   "execution_count": 1,
   "metadata": {},
   "outputs": [],
   "source": [
    "import numpy as np\n",
    "import matplotlib.pyplot as plt\n",
    "np.random.seed(42)"
   ]
  },
  {
   "cell_type": "code",
   "execution_count": 2,
   "metadata": {},
   "outputs": [],
   "source": [
    "from sklearn.datasets import load_breast_cancer\n",
    "from sklearn.model_selection import train_test_split"
   ]
  },
  {
   "cell_type": "code",
   "execution_count": 3,
   "metadata": {},
   "outputs": [],
   "source": [
    "cancer = load_breast_cancer()\n",
    "X = cancer.data\n",
    "y = cancer.target\n",
    "X_train, X_test, y_train, y_test = train_test_split(X, y, stratify=y, \n",
    "                                                    test_size=0.2, random_state=42)\n",
    "X_train, X_val, y_train, y_val = train_test_split(X_train, y_train, stratify=y_train, \n",
    "                                                  test_size=0.2, random_state=42)"
   ]
  },
  {
   "cell_type": "code",
   "execution_count": 4,
   "metadata": {},
   "outputs": [
    {
     "name": "stdout",
     "output_type": "stream",
     "text": [
      "(364, 30) (91, 30)\n"
     ]
    }
   ],
   "source": [
    "print(X_train.shape, X_val.shape)"
   ]
  },
  {
   "cell_type": "code",
   "execution_count": 5,
   "metadata": {},
   "outputs": [],
   "source": [
    "class SingleLayer:\n",
    "    \n",
    "    def __init__(self, learning_rate=0.1, l1=0, l2=0):\n",
    "        self.w = None              # 가중치\n",
    "        self.b = None              # 절편\n",
    "        self.losses = []           # 훈련 손실\n",
    "        self.val_losses = []       # 검증 손실\n",
    "        self.w_history = []        # 가중치 기록\n",
    "        self.lr = learning_rate    # 학습률\n",
    "        self.l1 = l1               # L1 손실 하이퍼파라미터\n",
    "        self.l2 = l2               # L2 손실 하이퍼파라미터\n",
    "        self.m = 0                 # 샘플 개수\n",
    "\n",
    "    def forpass(self, X):\n",
    "        z = np.dot(X, self.w) + self.b        # 선형 식을 계산합니다.\n",
    "        return z\n",
    "\n",
    "    def backprop(self, X, err):\n",
    "        w_grad = np.dot(err, X) / self.m      # 가중치에 대한 그래디언트를 계산합니다.\n",
    "        b_grad = np.sum(err) / self.m         # 절편에 대한 그래디언트를 계산합니다.\n",
    "        return w_grad, b_grad\n",
    "\n",
    "    def activation(self, z):\n",
    "        a = 1 / (1 + np.exp(-z))              # 시그모이드 계산\n",
    "        return a\n",
    "        \n",
    "    def fit(self, X, y, epochs=100, X_val=None, y_val=None):\n",
    "        self.m = X.shape[0]                   # 샘플 개수를 저장합니다.\n",
    "        self.w = np.ones(X.shape[1])          # 가중치를 초기화합니다.\n",
    "        self.b = 0                            # 절편을 초기화합니다.\n",
    "        self.w_history.append(self.w.copy())  # 가중치를 기록합니다.\n",
    "        # epochs만큼 반복합니다.\n",
    "        for i in range(epochs):\n",
    "            z = self.forpass(X)               # 정방향 계산을 수행합니다.\n",
    "            a = self.activation(z)            # 활성화 함수를 적용합니다.\n",
    "            err = y - a                       # 오차를 계산합니다.\n",
    "            # 오차를 역전파하여 그래디언트를 계산합니다.\n",
    "            w_grad, b_grad = self.backprop(X, err)\n",
    "            # 그래디언트에서 페널티 항의 미분 값을 뺍니다.\n",
    "            w_grad -= self.l1 * np.sign(self.w) + self.l2 * self.w\n",
    "            # 가중치와 절편을 업데이트합니다.\n",
    "            self.w += self.lr * w_grad\n",
    "            self.b += self.lr * b_grad\n",
    "            # 가중치를 기록합니다.\n",
    "            self.w_history.append(self.w.copy())\n",
    "            # 안전한 로그 계산을 위해 클리핑한 후 손실을 누적합니다.\n",
    "            a = np.clip(a, 1e-10, 1-1e-10)\n",
    "            loss = np.sum(-(y*np.log(a)+(1-y)*np.log(1-a)))\n",
    "            # 평균 손실과 규제 손실을 더하여 리스트에 추가합니다.\n",
    "            self.losses.append(loss/self.m + self.reg_loss())\n",
    "            # 검증 세트에 대한 손실을 계산합니다.\n",
    "            self.update_val_loss(X_val, y_val)\n",
    "    \n",
    "    def predict(self, X):\n",
    "        z = self.forpass(X)      # 정방향 계산을 수행합니다.\n",
    "        return z > 0             # 스텝 함수를 적용합니다.\n",
    "    \n",
    "    def score(self, X, y):\n",
    "        # 예측과 타깃 열 벡터를 비교하여 True의 비율을 반환합니다.\n",
    "        return np.mean(self.predict(X) == y)\n",
    "    \n",
    "    def reg_loss(self):\n",
    "        # 가중치에 규제를 적용합니다.\n",
    "        return self.l1 * np.sum(np.abs(self.w)) + self.l2 / 2 * np.sum(self.w**2)\n",
    "    \n",
    "    def update_val_loss(self, X_val, y_val):\n",
    "        z = self.forpass(X_val)            # 정방향 계산을 수행합니다.\n",
    "        a = self.activation(z)             # 활성화 함수를 적용합니다.\n",
    "        a = np.clip(a, 1e-10, 1-1e-10)     # 출력 값을 클리핑합니다.\n",
    "        # 로그 손실과 규제 손실을 더하여 리스트에 추가합니다.\n",
    "        val_loss = np.sum(-(y_val*np.log(a)+(1-y_val)*np.log(1-a)))\n",
    "        self.val_losses.append(val_loss/len(y_val) + self.reg_loss())"
   ]
  },
  {
   "cell_type": "code",
   "execution_count": 6,
   "metadata": {},
   "outputs": [],
   "source": [
    "from sklearn.preprocessing import StandardScaler"
   ]
  },
  {
   "cell_type": "code",
   "execution_count": 7,
   "metadata": {},
   "outputs": [],
   "source": [
    "scaler = StandardScaler()\n",
    "scaler.fit(X_train)\n",
    "X_train_scaled = scaler.transform(X_train)\n",
    "X_val_scaled = scaler.transform(X_val)"
   ]
  },
  {
   "cell_type": "code",
   "execution_count": 8,
   "metadata": {},
   "outputs": [
    {
     "data": {
      "text/plain": [
       "0.978021978021978"
      ]
     },
     "execution_count": 8,
     "metadata": {},
     "output_type": "execute_result"
    }
   ],
   "source": [
    "layer = SingleLayer(l2=0.001)\n",
    "layer.fit(X_train_scaled, y_train, X_val=X_val_scaled, y_val=y_val, epochs=20000)\n",
    "layer.score(X_val_scaled, y_val)"
   ]
  },
  {
   "cell_type": "code",
   "execution_count": 9,
   "metadata": {},
   "outputs": [
    {
     "data": {
      "image/png": "[encoded data removed]",
      "text/plain": [
       "<Figure size 432x288 with 1 Axes>"
      ]
     },
     "metadata": {
      "needs_background": "light"
     },
     "output_type": "display_data"
    }
   ],
   "source": [
    "plt.ylim(0, 0.3)\n",
    "plt.plot(layer.losses)\n",
    "plt.plot(layer.val_losses)\n",
    "plt.ylabel('loss')\n",
    "plt.xlabel('epoch')\n",
    "plt.legend(['train_loss', 'val_loss'])\n",
    "plt.show()"
   ]
  },
  {
   "cell_type": "code",
   "execution_count": 10,
   "metadata": {},
   "outputs": [
    {
     "data": {
      "image/png": "[encoded data removed]",
      "text/plain": [
       "<Figure size 432x288 with 1 Axes>"
      ]
     },
     "metadata": {
      "needs_background": "light"
     },
     "output_type": "display_data"
    }
   ],
   "source": [
    "w3 = []\n",
    "w4 = []\n",
    "for w in layer.w_history:\n",
    "    w3.append(w[2])\n",
    "    w4.append(w[3])\n",
    "plt.plot(w3, w4)\n",
    "plt.plot(w3[-1], w4[-1], 'ro')\n",
    "plt.xlabel('w3')\n",
    "plt.ylabel('w4')\n",
    "plt.show()"
   ]
  },
  {
   "cell_type": "markdown",
   "metadata": {},
   "source": [
    "### <직접 해보세요!> DualLayer 클래스 만들기"
   ]
  },
  {
   "cell_type": "code",
   "execution_count": 11,
   "metadata": {},
   "outputs": [],
   "source": [
    "class DualLayer:\n",
    "    \n",
    "    def __init__(self, units=10, learning_rate=0.1, l1=0, l2=0):\n",
    "        self.units = units         # 은닉층의 뉴런 개수\n",
    "        self.w1 = None             # 은닉층의 가중치\n",
    "        self.b1 = None             # 은닉층의 절편\n",
    "        self.w2 = None             # 출력층의 가중치\n",
    "        self.b2 = None             # 출력층의 절편\n",
    "        self.a1 = None             # 은닉층의 활성화 출력\n",
    "        self.losses = []           # 훈련 손실\n",
    "        self.val_losses = []       # 검증 손실\n",
    "        self.lr = learning_rate    # 학습률\n",
    "        self.l1 = l1               # L1 손실 하이퍼파라미터\n",
    "        self.l2 = l2               # L2 손실 하이퍼파라미터\n",
    "        self.m = 0                 # 샘플 개수\n",
    "\n",
    "    def forpass(self, X):\n",
    "        z1 = np.dot(X, self.w1) + self.b1        # 첫 번째 층의 선형 식을 계산합니다\n",
    "        self.a1 = self.activation(z1)            # 활성화 함수를 적용합니다\n",
    "        z2 = np.dot(self.a1, self.w2) + self.b2  # 두 번째 층의 선형 식을 계산합니다.\n",
    "        return z2\n",
    "\n",
    "    def backprop(self, X, err):\n",
    "        # 은닉층의 가중치와 절편에 대한 그래디언트를 계산합니다.\n",
    "        w2_grad = np.dot(self.a1.T, err) / self.m\n",
    "        b2_grad = np.sum(err) / self.m\n",
    "        # 시그모이드 함수까지 그래디언트를 계산합니다.\n",
    "        err_to_hidden = np.dot(err, self.w2.T) * self.a1 * (1 - self.a1)\n",
    "        # 출력층의 가중치와 절편에 대한 그래디언트를 계산합니다.\n",
    "        w1_grad = np.dot(X.T, err_to_hidden) / self.m\n",
    "        b1_grad = np.sum(err_to_hidden, axis=0) / self.m\n",
    "        return w1_grad, b1_grad, w2_grad, b2_grad\n",
    "\n",
    "    def activation(self, z):\n",
    "        a = 1 / (1 + np.exp(-z))      # 시그모이드 계산\n",
    "        return a\n",
    "        \n",
    "    def fit(self, X, y, epochs=100, X_val=None, y_val=None):\n",
    "        self.m = X.shape[0]           # 샘플 개수를 저장합니다.\n",
    "        y = y.reshape(-1, 1)          # 타깃을 열 벡터로 바꿉니다.\n",
    "        # 은닉층과 출력층의 가중치를 초기화합니다.\n",
    "        self.w1 = np.ones((X.shape[1], self.units))  # (특성 개수, 은닉층의 크기)\n",
    "        self.b1 = np.zeros(self.units)               # 은닉층의 크기\n",
    "        self.w2 = np.ones((self.units, 1))           # (은닉층의 크기, 1)\n",
    "        self.b2 = 0\n",
    "        # epochs만큼 반복합니다.\n",
    "        for i in range(epochs):\n",
    "            z = self.forpass(X)       # 정방향 계산을 수행합니다.\n",
    "            a = self.activation(z)    # 활성화 함수를 적용합니다.\n",
    "            err = y - a               # 오차를 계산합니다.\n",
    "            # 오차를 역전파하여 그래디언트를 계산합니다.\n",
    "            w1_grad, b1_grad, w2_grad, b2_grad = self.backprop(X, err)\n",
    "            # 그래디언트에서 페널티 항의 미분 값을 뺍니다\n",
    "            w1_grad -= self.l1 * np.sign(self.w1) + self.l2 * self.w1\n",
    "            w2_grad -= self.l1 * np.sign(self.w2) + self.l2 * self.w2\n",
    "            # 은닉층의 가중치와 절편을 업데이트합니다.\n",
    "            self.w1 += self.lr * w1_grad\n",
    "            self.b1 += self.lr * b1_grad\n",
    "            # 출력층의 가중치와 절편을 업데이트합니다.\n",
    "            self.w2 += self.lr * w2_grad\n",
    "            self.b2 += self.lr * b2_grad\n",
    "            # 안전한 로그 계산을 위해 클리핑한 후 손실을 계산합니다.\n",
    "            a = np.clip(a, 1e-10, 1-1e-10)\n",
    "            loss = np.sum(-(y*np.log(a)+(1-y)*np.log(1-a)))\n",
    "            # 평균 손실과 규제 손실을 더하여 리스트에 추가합니다.\n",
    "            self.losses.append(loss/self.m + self.reg_loss())\n",
    "            # 검증 세트에 대한 손실을 계산합니다.\n",
    "            self.update_val_loss(X_val, y_val)\n",
    "    \n",
    "    def predict(self, X):\n",
    "        z = self.forpass(X)      # 정방향 계산을 수행합니다.\n",
    "        return z > 0             # 스텝 함수를 적용합니다.\n",
    "    \n",
    "    def score(self, X, y):\n",
    "        # 예측과 타깃 열 벡터를 비교하여 True의 비율을 반환합니다.\n",
    "        return np.mean(self.predict(X) == y.reshape(-1, 1))\n",
    "    \n",
    "    def reg_loss(self):\n",
    "        # 은닉층과 출력층의 가중치에 규제를 적용합니다.\n",
    "        return self.l1 * (np.sum(np.abs(self.w1)) + np.sum(np.abs(self.w2))) + \\\n",
    "               self.l2 / 2 * (np.sum(self.w1**2) + np.sum(self.w2**2))\n",
    "    \n",
    "    def update_val_loss(self, X_val, y_val):\n",
    "        y_val = y_val.reshape(-1, 1)       # 타깃을 열 벡터로 바꿉니다.\n",
    "        z = self.forpass(X_val)            # 정방향 계산을 수행합니다.\n",
    "        a = self.activation(z)             # 활성화 함수를 적용합니다.\n",
    "        a = np.clip(a, 1e-10, 1-1e-10)     # 출력 값을 클리핑합니다.\n",
    "        # 로그 손실과 규제 손실을 더하여 리스트에 추가합니다.\n",
    "        val_loss = np.sum(-(y_val*np.log(a)+(1-y_val)*np.log(1-a)))\n",
    "        self.val_losses.append(val_loss/len(y_val) + self.reg_loss())"
   ]
  },
  {
   "cell_type": "markdown",
   "metadata": {},
   "source": [
    "### <직접 해보세요!> 여러 개의 뉴런으로 훈련하기"
   ]
  },
  {
   "cell_type": "code",
   "execution_count": 12,
   "metadata": {},
   "outputs": [
    {
     "data": {
      "text/plain": [
       "0.978021978021978"
      ]
     },
     "execution_count": 12,
     "metadata": {},
     "output_type": "execute_result"
    }
   ],
   "source": [
    "dual_layer = DualLayer(l2=0.001)\n",
    "dual_layer.fit(X_train_scaled, y_train, X_val=X_val_scaled, y_val=y_val, epochs=20000)\n",
    "dual_layer.score(X_val_scaled, y_val)"
   ]
  },
  {
   "cell_type": "code",
   "execution_count": 13,
   "metadata": {
    "scrolled": true
   },
   "outputs": [
    {
     "data": {
      "image/png": "[encoded data removed]",
      "text/plain": [
       "<Figure size 432x288 with 1 Axes>"
      ]
     },
     "metadata": {
      "needs_background": "light"
     },
     "output_type": "display_data"
    }
   ],
   "source": [
    "plt.ylim(0, 0.3)\n",
    "plt.plot(dual_layer.losses)\n",
    "plt.plot(dual_layer.val_losses)\n",
    "plt.ylabel('loss')\n",
    "plt.xlabel('epoch')\n",
    "plt.legend(['train_loss', 'val_loss'])\n",
    "plt.show()"
   ]
  },
  {
   "cell_type": "code",
   "execution_count": null,
   "metadata": {},
   "outputs": [],
   "source": []
  },
  {
   "cell_type": "code",
   "execution_count": 14,
   "metadata": {},
   "outputs": [],
   "source": [
    "class DualLayer:\n",
    "    \n",
    "    def __init__(self, units=10, learning_rate=0.1, l1=0, l2=0):\n",
    "        self.units = units         # 은닉층의 뉴런 개수\n",
    "        self.w1 = None             # 은닉층의 가중치\n",
    "        self.b1 = None             # 은닉층의 절편\n",
    "        self.w2 = None             # 출력층의 가중치\n",
    "        self.b2 = None             # 출력층의 절편\n",
    "        self.a1 = None             # 은닉층의 활성화 출력\n",
    "        self.losses = []           # 훈련 손실\n",
    "        self.val_losses = []       # 검증 손실\n",
    "        self.lr = learning_rate    # 학습률\n",
    "        self.l1 = l1               # L1 손실 하이퍼파라미터\n",
    "        self.l2 = l2               # L2 손실 하이퍼파라미터\n",
    "        self.m = 0                 # 샘플 개수\n",
    "\n",
    "    def forpass(self, X):\n",
    "        z1 = np.dot(X, self.w1) + self.b1        # 첫 번째 층의 선형 식을 계산합니다\n",
    "        self.a1 = self.activation(z1)            # 활성화 함수를 적용합니다\n",
    "        z2 = np.dot(self.a1, self.w2) + self.b2  # 두 번째 층의 선형 식을 계산합니다.\n",
    "        return z2\n",
    "\n",
    "    def backprop(self, X, err):\n",
    "        w2_grad = np.dot(self.a1.T, err) / self.m   # 가중치에 대한 그래디언트를 계산합니다\n",
    "        b2_grad = np.sum(err) / self.m\n",
    "        err_to_hidden = np.dot(err, self.w2.T) * self.a1 * (1 - self.a1)\n",
    "        w1_grad = np.dot(X.T, err_to_hidden) / self.m\n",
    "        b1_grad = np.sum(err_to_hidden, axis=0) / self.m\n",
    "        return w1_grad, b1_grad, w2_grad, b2_grad\n",
    "\n",
    "    def activation(self, z):\n",
    "        a = 1 / (1 + np.exp(-z))      # 시그모이드 계산\n",
    "        return a\n",
    "        \n",
    "    def fit(self, X, y, epochs=100, X_val=None, y_val=None):\n",
    "        self.m = X.shape[0]           # 샘플 개수를 저장합니다.\n",
    "        y = y.reshape(-1, 1)          # 타깃을 열 벡터로 바꿉니다.\n",
    "        # 은닉층과 출력층의 가중치를 초기화합니다.\n",
    "        self.w1 = np.random.normal(0, 1, (X.shape[1], self.units))  # (특성 개수, 은닉층의 크기)\n",
    "        self.b1 = np.zeros(self.units)                              # 은닉층의 크기\n",
    "        self.w2 = np.random.normal(0, 1, (self.units, 1))           # (은닉층의 크기, 1)\n",
    "        self.b2 = 0\n",
    "        # epochs만큼 반복합니다.\n",
    "        for i in range(epochs):\n",
    "            z = self.forpass(X)       # 정방향 계산을 수행합니다.\n",
    "            a = self.activation(z)    # 활성화 함수를 적용합니다.\n",
    "            err = y - a               # 오차를 계산합니다.\n",
    "            # 오차를 역전파하여 그래디언트를 계산합니다.\n",
    "            w1_grad, b1_grad, w2_grad, b2_grad = self.backprop(X, err)\n",
    "            # 그래디언트에서 페널티 항의 미분 값을 뺍니다\n",
    "            w1_grad -= self.l1 * np.sign(self.w1) + self.l2 * self.w1\n",
    "            w2_grad -= self.l1 * np.sign(self.w2) + self.l2 * self.w2\n",
    "            # 은닉층의 가중치와 절편을 업데이트합니다.\n",
    "            self.w1 += self.lr * w1_grad\n",
    "            self.b1 += self.lr * b1_grad\n",
    "            # 출력층의 가중치와 절편을 업데이트합니다.\n",
    "            self.w2 += self.lr * w2_grad\n",
    "            self.b2 += self.lr * b2_grad\n",
    "            # 안전한 로그 계산을 위해 클리핑한 후 손실을 계산합니다.\n",
    "            a = np.clip(a, 1e-10, 1-1e-10)\n",
    "            loss = np.sum(-(y*np.log(a)+(1-y)*np.log(1-a)))\n",
    "            # 평균 손실과 규제 손실을 더하여 리스트에 추가합니다.\n",
    "            self.losses.append(loss/self.m + self.reg_loss())\n",
    "            # 검증 세트에 대한 손실을 계산합니다.\n",
    "            self.update_val_loss(X_val, y_val)\n",
    "    \n",
    "    def predict(self, X):\n",
    "        z = self.forpass(X)      # 정방향 계산을 수행합니다.\n",
    "        return z > 0             # 스텝 함수를 적용합니다.\n",
    "    \n",
    "    def score(self, X, y):\n",
    "        # 예측과 타깃 열 벡터를 비교하여 True의 비율을 반환합니다.\n",
    "        return np.mean(self.predict(X) == y.reshape(-1, 1))\n",
    "    \n",
    "    def reg_loss(self):\n",
    "        # 은닉층과 출력층의 가중치에 규제를 적용합니다.\n",
    "        return self.l1 * (np.sum(np.abs(self.w1)) + np.sum(np.abs(self.w2))) + \\\n",
    "               self.l2 / 2 * (np.sum(self.w1**2) + np.sum(self.w2**2))\n",
    "    \n",
    "    def update_val_loss(self, X_val, y_val):\n",
    "        y_val = y_val.reshape(-1, 1)       # 타깃을 열 벡터로 바꿉니다.\n",
    "        z = self.forpass(X_val)            # 정방향 계산을 수행합니다.\n",
    "        a = self.activation(z)             # 활성화 함수를 적용합니다.\n",
    "        a = np.clip(a, 1e-10, 1-1e-10)     # 출력 값을 클리핑합니다.\n",
    "        # 로그 손실과 규제 손실을 더하여 리스트에 추가합니다.\n",
    "        val_loss = np.sum(-(y_val*np.log(a)+(1-y_val)*np.log(1-a)))\n",
    "        self.val_losses.append(val_loss/len(y_val) + self.reg_loss())"
   ]
  },
  {
   "cell_type": "code",
   "execution_count": 15,
   "metadata": {},
   "outputs": [
    {
     "data": {
      "text/plain": [
       "0.978021978021978"
      ]
     },
     "execution_count": 15,
     "metadata": {},
     "output_type": "execute_result"
    }
   ],
   "source": [
    "dual_layer = DualLayer(l2=0.001)\n",
    "dual_layer.fit(X_train_scaled, y_train, X_val=X_val_scaled, y_val=y_val, epochs=20000)\n",
    "dual_layer.score(X_val_scaled, y_val)"
   ]
  },
  {
   "cell_type": "code",
   "execution_count": 16,
   "metadata": {
    "scrolled": true
   },
   "outputs": [
    {
     "data": {
      "image/png": "[encoded data removed]",
      "text/plain": [
       "<Figure size 432x288 with 1 Axes>"
      ]
     },
     "metadata": {
      "needs_background": "light"
     },
     "output_type": "display_data"
    }
   ],
   "source": [
    "plt.ylim(0, 0.3)\n",
    "plt.plot(dual_layer.losses)\n",
    "plt.plot(dual_layer.val_losses)\n",
    "plt.ylabel('loss')\n",
    "plt.xlabel('epoch')\n",
    "plt.legend(['train_loss', 'val_loss'])\n",
    "plt.show()"
   ]
  },
  {
   "cell_type": "code",
   "execution_count": null,
   "metadata": {},
   "outputs": [],
   "source": []
  },
  {
   "cell_type": "code",
   "execution_count": null,
   "metadata": {},
   "outputs": [],
   "source": []
  },
  {
   "cell_type": "code",
   "execution_count": null,
   "metadata": {},
   "outputs": [],
   "source": []
  },
  {
   "cell_type": "code",
   "execution_count": null,
   "metadata": {},
   "outputs": [],
   "source": []
  },
  {
   "cell_type": "code",
   "execution_count": 17,
   "metadata": {
    "scrolled": true
   },
   "outputs": [
    {
     "name": "stderr",
     "output_type": "stream",
     "text": [
      "/Users/rickypark/anaconda3/envs/do-it-dl/lib/python3.7/site-packages/sklearn/neural_network/multilayer_perceptron.py:562: ConvergenceWarning: Stochastic Optimizer: Maximum iterations (200) reached and the optimization hasn't converged yet.\n",
      "  % self.max_iter, ConvergenceWarning)\n"
     ]
    },
    {
     "data": {
      "text/plain": [
       "0.989010989010989"
      ]
     },
     "execution_count": 17,
     "metadata": {},
     "output_type": "execute_result"
    }
   ],
   "source": [
    "from sklearn.neural_network import MLPClassifier\n",
    "mlp = MLPClassifier(hidden_layer_sizes=(10, ), activation='logistic')\n",
    "mlp.fit(X_train_scaled, y_train)\n",
    "mlp.score(X_val_scaled, y_val)"
   ]
  },
  {
   "cell_type": "code",
   "execution_count": 18,
   "metadata": {
    "scrolled": true
   },
   "outputs": [
    {
     "data": {
      "text/plain": [
       "[array([[ 0.41581076, -0.25017914,  0.34866819, -0.12447841, -0.40326429,\n",
       "         -0.08994259,  0.36932648,  0.40270858,  0.19421428, -0.05529175],\n",
       "        [ 0.2569648 , -0.46204447,  0.4460381 , -0.47231406, -0.36027048,\n",
       "         -0.12510008,  0.60195848,  0.36040574,  0.3653781 , -0.27475896],\n",
       "        [ 0.1615764 , -0.29148026,  0.31016702, -0.12185037, -0.09158762,\n",
       "         -0.13882827,  0.17930822,  0.2502286 ,  0.07246078, -0.20733629],\n",
       "        [ 0.224513  , -0.04155235,  0.16573727, -0.40615391, -0.38320845,\n",
       "         -0.15350777,  0.41759498,  0.07516022,  0.08454283, -0.13846373],\n",
       "        [ 0.08896069, -0.05576135,  0.27754805, -0.36569682, -0.3296534 ,\n",
       "         -0.04089604,  0.28084946,  0.17448594,  0.36741585, -0.03994265],\n",
       "        [ 0.4389019 , -0.02673162,  0.08203143, -0.33118222,  0.01499701,\n",
       "         -0.19648636,  0.19383808,  0.3435765 , -0.00593083, -0.18275713],\n",
       "        [ 0.02922476, -0.19552605, -0.01035101, -0.36230531, -0.34639169,\n",
       "         -0.18289726,  0.43583509,  0.26117384,  0.42671047, -0.2598639 ],\n",
       "        [ 0.16552607, -0.04003845,  0.09471844, -0.01412884, -0.42428983,\n",
       "         -0.05571592,  0.14927339,  0.41855028,  0.26394723, -0.00552667],\n",
       "        [ 0.08575168, -0.14807945,  0.28149033, -0.15861395, -0.10382319,\n",
       "         -0.13916588,  0.27565327,  0.21893986,  0.16998325, -0.01537721],\n",
       "        [-0.44848533,  0.22947345, -0.15390812,  0.52181872,  0.29958201,\n",
       "          0.35219933, -0.46862322, -0.45740742, -0.38565123,  0.2371584 ],\n",
       "        [ 0.28973312, -0.39462979,  0.4278392 , -0.01114545, -0.13070634,\n",
       "         -0.26736303,  0.27213811,  0.38811671,  0.32449756, -0.3638968 ],\n",
       "        [ 0.16477982,  0.14466058,  0.00735123,  0.08184015,  0.03152387,\n",
       "         -0.11033247, -0.02597773,  0.12620591, -0.31960276, -0.11916215],\n",
       "        [ 0.18265731, -0.04811947,  0.41569597, -0.36762465, -0.16017713,\n",
       "         -0.32795433,  0.53017258,  0.37398167,  0.37189393, -0.21292419],\n",
       "        [ 0.20742026, -0.30612862,  0.01924864, -0.06423157, -0.07634608,\n",
       "         -0.05464548,  0.58373912,  0.27438355,  0.36949907, -0.01439008],\n",
       "        [ 0.05562863,  0.03722254, -0.14285889, -0.01388382,  0.17763868,\n",
       "          0.07766612, -0.12547127,  0.02025018, -0.11496855,  0.04531122],\n",
       "        [-0.05334311,  0.1149765 , -0.0883728 ,  0.17951143,  0.11893377,\n",
       "          0.01283277, -0.09773759, -0.01007269,  0.09405928, -0.08039692],\n",
       "        [-0.04396727, -0.2148938 ,  0.05689349,  0.13887854,  0.2027923 ,\n",
       "         -0.20397083, -0.24014113, -0.22497072, -0.10758011,  0.00165148],\n",
       "        [ 0.16823141, -0.16280479,  0.30986496, -0.19679153, -0.12256091,\n",
       "         -0.12624262,  0.21281328,  0.21420016,  0.29938902,  0.02736968],\n",
       "        [-0.24861147,  0.25798004, -0.298849  ,  0.09031947,  0.01040514,\n",
       "          0.30888284, -0.2625507 , -0.35083363, -0.27864432,  0.10892652],\n",
       "        [-0.30412937,  0.11240832, -0.49400883,  0.13057917,  0.11373013,\n",
       "          0.31066905, -0.40467447, -0.30622482, -0.13524836,  0.22510508],\n",
       "        [ 0.3414486 , -0.37273813,  0.10381567, -0.45280238, -0.38453769,\n",
       "         -0.36961483,  0.23815705,  0.08572028,  0.11131837, -0.25486965],\n",
       "        [ 0.19025766, -0.32517008,  0.28272417, -0.21690122, -0.49663658,\n",
       "         -0.18279237,  0.48877467,  0.1501609 ,  0.49361228, -0.07894311],\n",
       "        [ 0.06675269, -0.3199701 ,  0.37292959, -0.13094728, -0.37164144,\n",
       "         -0.39723418,  0.31615746,  0.25609155,  0.32741635, -0.29120697],\n",
       "        [ 0.24236243, -0.11046149,  0.02827636, -0.35287752, -0.137569  ,\n",
       "         -0.09182313,  0.3839179 ,  0.27833141,  0.09889339, -0.25533219],\n",
       "        [ 0.31629973, -0.34468373,  0.13497325, -0.29518823, -0.43637619,\n",
       "         -0.33561409,  0.25818102,  0.20629883,  0.11783974, -0.08873137],\n",
       "        [ 0.28736457, -0.08209282,  0.29652575, -0.18318462, -0.33003484,\n",
       "         -0.20313286,  0.31639221,  0.31710181,  0.17621207, -0.35748552],\n",
       "        [ 0.1609309 , -0.24655557,  0.2568875 , -0.16742728, -0.24238243,\n",
       "         -0.01873946,  0.38153371,  0.12058876,  0.05230784, -0.36102669],\n",
       "        [ 0.15842971, -0.36369401,  0.08504644, -0.32675798, -0.35981071,\n",
       "         -0.08117342,  0.18205974,  0.26933664,  0.22253011, -0.01735219],\n",
       "        [ 0.152477  , -0.27148666,  0.4097775 , -0.08488508, -0.08914221,\n",
       "         -0.35192702,  0.23905716,  0.3454126 ,  0.43693721, -0.20726038],\n",
       "        [ 0.29334489, -0.22400774,  0.22951591, -0.28420192, -0.12367553,\n",
       "         -0.2273531 ,  0.27797016,  0.09860405,  0.00445781, -0.12859026]]),\n",
       " array([[-0.46814161],\n",
       "        [ 0.63826872],\n",
       "        [-0.58331502],\n",
       "        [ 0.54198532],\n",
       "        [ 0.55264828],\n",
       "        [ 0.20780043],\n",
       "        [-0.41670598],\n",
       "        [-0.45372826],\n",
       "        [-0.52127151],\n",
       "        [ 0.64445874]])]"
      ]
     },
     "execution_count": 18,
     "metadata": {},
     "output_type": "execute_result"
    }
   ],
   "source": [
    "mlp.coefs_"
   ]
  },
  {
   "cell_type": "code",
   "execution_count": null,
   "metadata": {},
   "outputs": [],
   "source": []
  }
 ],
 "metadata": {
  "kernelspec": {
   "display_name": "Python 3",
   "language": "python",
   "name": "python3"
  },
  "language_info": {
   "codemirror_mode": {
    "name": "ipython",
    "version": 3
   },
   "file_extension": ".py",
   "mimetype": "text/x-python",
   "name": "python",
   "nbconvert_exporter": "python",
   "pygments_lexer": "ipython3",
   "version": "3.7.2"
  }
 },
 "nbformat": 4,
 "nbformat_minor": 2
}
