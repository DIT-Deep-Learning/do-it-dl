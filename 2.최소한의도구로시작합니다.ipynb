{
 "cells": [
  {
   "cell_type": "markdown",
   "metadata": {
    "colab_type": "toc",
    "id": "XVWPfJfMd_KW"
   },
   "source": [
    ">[02-1 파이썬의 프로그래밍 환경](#scrollTo=J9kv811RsQRp)\n",
    "\n",
    ">>[파이썬을 간략히 소개합니다](#scrollTo=Zx0kM-YMsPr2)\n",
    "\n",
    ">>[파이썬 스크립트와 대화형 쉘을 사용해 코드를 실행합니다](#scrollTo=Qo-boEQRsK8G)\n",
    "\n",
    ">>[주피터 노트북을 사용해 코드를 실행합니다](#scrollTo=cRHvuXlqWUUk)\n",
    "\n",
    ">[02-2 구글 코랩](#scrollTo=M14m4RJYkmLu)\n",
    "\n",
    ">>[<직접 해보세요!> 코랩에 들어가 봅니다](#scrollTo=Jmbd5QX-nYUU)\n",
    "\n",
    ">>[<직접 해보세요!> 코랩에서 노트북 파일을 하나 만들어 봅니다](#scrollTo=BWoUekeUnYJl)\n",
    "\n",
    ">>[<직접 해보세요!> 노트북 사용법을 조금 더 자세히 배워보죠](#scrollTo=VhhdpoB1nX9z)\n",
    "\n",
    ">[02-3 넘파이](#scrollTo=ANeYYLVfmz53)\n",
    "\n",
    ">>[파이썬 리스트](#scrollTo=35aAXZtAc4Xd)\n",
    "\n",
    ">>[넘파이 로드하기](#scrollTo=aWSzhkwcdFo1)\n",
    "\n",
    ">>[<직접 해보세요!> 넘파이로 배열 만들기](#scrollTo=CAnV0Zltdghl)\n",
    "\n",
    ">>[<직접 해보세요!> 넘파이 내장 함수를 사용해 보죠](#scrollTo=kjSpMaokegzk)\n",
    "\n",
    ">[02-4 맷플롯립](#scrollTo=6Mp_N9cMm2zv)\n",
    "\n",
    ">>[<직접해 보세요> 선그래프 그리기](#scrollTo=kuhv7ppsfi8e)\n",
    "\n",
    ">[02-5 사이킷런](#scrollTo=WOuBC3T2m5jw)\n",
    "\n",
    ">[02-6 텐서플로와 케라스](#scrollTo=PLkLyGWZm6MA)\n",
    "\n",
    ">[02-7 요약](#scrollTo=XJPjJMZvnWIj)\n",
    "\n"
   ]
  },
  {
   "cell_type": "markdown",
   "metadata": {
    "colab_type": "text",
    "id": "mxC7hWrg24Kf"
   },
   "source": [
    "이 장에서는 책의 예제를 따라하기 위해서 파이썬 프로그래밍과 딥러닝 개발 환경을 준비합니다. 놀랍게도 컴퓨터에 아무것도 설치할 필요가 없습니다. 즐겨 사용하는 웹 브라우저(Web browser) 하나만 있으면 이 책의 첫째 마당의 실습을 모두 수행할 수 있습니다. 어떻게 하는지 한 번 살펴 볼까요?"
   ]
  },
  {
   "cell_type": "markdown",
   "metadata": {
    "colab_type": "text",
    "id": "J9kv811RsQRp"
   },
   "source": [
    "# 02-1 파이썬의 프로그래밍 환경"
   ]
  },
  {
   "cell_type": "markdown",
   "metadata": {
    "colab_type": "text",
    "id": "H6CmtbEk6MhY"
   },
   "source": [
    "이 절에서는 파이썬의 프로그래밍 환경에 대해 소개합니다. 혹시 파이썬과 주피터 노트북(Jupyter notebook)에 대해 잘 알고 있다면 다음 절로 건너 뛰어도 좋습니다."
   ]
  },
  {
   "cell_type": "markdown",
   "metadata": {
    "colab_type": "text",
    "id": "Zx0kM-YMsPr2"
   },
   "source": [
    "## 파이썬을 간략히 소개합니다"
   ]
  },
  {
   "cell_type": "markdown",
   "metadata": {
    "colab_type": "text",
    "id": "gggISIt9n8lI"
   },
   "source": [
    "1장에서 소개했듯이 파이썬은 머신러닝, 딥러닝 분야의 표준 프로그래밍 언어로 자리 잡았습니다. 파이썬의 인기도 갈수록 높아지고 있습니다. 조만간 이 인기가 사그러들 어떤 조짐도 보이질 않네요. 딥러닝을 공부하려면 파이썬은 필수입니다. 여기에서는 앞으로 딥러닝을 배우기 위해 필요한 파이썬 언어와 환경에 대해 간단하게 소개하겠습니다."
   ]
  },
  {
   "cell_type": "markdown",
   "metadata": {
    "colab_type": "text",
    "id": "2pHB-1LEn2yv"
   },
   "source": [
    "프로그래밍 언어를 사용하려면 그 언어를 해석해 주는 프로그램을 설치를 해야합니다. 보통 컴파일러(compiler) 혹은 인터프리터(interpreter)라고 부릅니다. 파이썬은 C 언어와 같이 실행 파일(윈도에서 확장자가 exe인 파일)로 컴파일되지 않습니다. 펄(Perl), 루비(Ruby) 같은 언어 처럼 소스 코드(source code)를 한 줄씩 읽어서 실행합니다. 그래서 파이썬 소스 코드를 실행하는 프로그램을 파이썬 인터프리터(interpreter)라고도 부릅니다. 파이썬 인터프리터는 마이크로소프트 윈도, 리눅스(Linux), 애플 macOS에서 모두 사용할 수 있습니다. 친절하게도 리눅스와 macOS에는 파이썬이 기본으로 포함되어 있습니다. 파이썬 인터프리터를 설치하는 대표적인 방법은 파이썬 공식 사이트([www.python.org]())에서 운영체제마다 준비한 설치 파일을 다운로드하는 것입니다."
   ]
  },
  {
   "cell_type": "markdown",
   "metadata": {
    "colab_type": "text",
    "id": "NQu33QuTnbO_"
   },
   "source": [
    "파이썬도 다른 언어와 마찬가지로 기본 언어의 기능을 확장해 주는 라이브러리(library)들이 아주 많습니다. 파이썬에서는 이런 라이브러리를 패키지(package)라고 부릅니다. 이 책에서 사용할 머신 러닝, 딥러닝 라이브러리도 파이썬의 패키지로 제공됩니다. 이런 패키지들을 미리 모아서 하나의 설치 파일로 제공해 주는 배포판이 있습니다. 가장 대표적인 배포판이 아나콘다(Anaconda, [www.anaconda.com]())입니다. 특히 아나콘다는 과학 계산을 위한 파이썬 패키지를 많이 포함하고 있어 머신러닝이나 딥러닝을 위해서 파이썬을 설치할 때 아주 적합합니다. 윈도는 물론 기본으로 파이썬이 있는 리눅스나 macOS 사용자들도 아나콘다 배포판을 사용하여 추가로 파이썬을 설치합니다. 이렇게 하면 시스템에 내장된 파이썬 패키지를 변경하지 않고도 얼마든지 원하는 작업을 할 수 있기 때문입니다. 윈도에서 아나콘다 배포판을 설치하는 자세한 방법은 부록 A에 있습니다."
   ]
  },
  {
   "cell_type": "markdown",
   "metadata": {
    "colab_type": "text",
    "id": "wcXgpnbw94Wm"
   },
   "source": [
    "잠시만요. 부록 A를 지금 들춰 볼 필요는 없습니다. 여기서는 웹 브라우저만으로 파이썬을 사용한다고 했으니까요. 그 전에 한 가지 더 이야기할 것이 있습니다. 파이썬 코드를 실행하는 다양한 방법을 알아 보겠습니다."
   ]
  },
  {
   "cell_type": "markdown",
   "metadata": {
    "colab_type": "text",
    "id": "Qo-boEQRsK8G"
   },
   "source": [
    "## 파이썬 스크립트와 대화형 쉘을 사용해 코드를 실행합니다"
   ]
  },
  {
   "cell_type": "markdown",
   "metadata": {
    "colab_type": "text",
    "id": "3V1yqk8X97kQ"
   },
   "source": [
    "파이썬 프로그램을 실행하는 대표적인 방법은 다른 언어에서처럼 텍스트 파일에 코드를 입력하고 `python` 명령으로 실행하는 것입니다. 아래 그림은 `hello_world.py` 이름을 가진 텍스트 파일을 실행하는 화면입니다. 관례적으로 파이썬 파일 이름의 확장자는 `.py`를 사용합니다. 아래 코드에서 `print()` 함수는 'hello world!'란 문자열을 화면에 출력합니다."
   ]
  },
  {
   "cell_type": "markdown",
   "metadata": {
    "colab_type": "text",
    "id": "gBNrsnS1sdIL"
   },
   "source": [
    "간단한 문자열을 출력하는 파이썬 프로그램\n",
    "\n",
    "![대체 텍스트](https://drive.google.com/uc?export=download&id=1WXjnVQ9ALpo-2swWIXtVJb_ECbP2zEYG =400x)\n",
    "\n",
    "파이썬 프로그램 실행 결과\n",
    "\n",
    "![대체 텍스트](https://drive.google.com/uc?export=download&id=18K-pO_PopQlkIjXXdD11M56mP17dvXmn =500x)"
   ]
  },
  {
   "cell_type": "markdown",
   "metadata": {
    "colab_type": "text",
    "id": "jmqeO6YKsdE3"
   },
   "source": [
    "파이썬 코드를 실행하는 다른 방법은 파이썬 대화형 쉘(interactive shell)을 사용하는 것입니다. 파이썬 쉘은 한 줄 또는 몇 줄씩 코드를 실행하고 바로 결과를 화면에 보여 줍니다. REPL(Read–Eval–Print Loop) 방식이라고도 합니다. 이 쉘은 마치 윈도의 명령 프롬프트나 리눅스, macOS의 터미널 창과 비슷합니다. 다음 그림을 보면 쉽게 이해할 수 있습니다."
   ]
  },
  {
   "cell_type": "markdown",
   "metadata": {
    "colab_type": "text",
    "id": "K12CP4n5sdBc"
   },
   "source": [
    "파이썬의 대화형 쉘 \n",
    "\n",
    "![대체 텍스트](https://drive.google.com/uc?export=download&id=1BSoEdCnaRK1ZrwN3FZJILEZsPul7ZvMA =500x)"
   ]
  },
  {
   "cell_type": "markdown",
   "metadata": {
    "colab_type": "text",
    "id": "JfYlMnLh2c98"
   },
   "source": [
    "파일 이름을 지정하지 않고 `python` 명령을 실행하면 자동으로 쉘이 시작됩니다. 파일로 작성할 수 있는 파이썬 코드는 모두 쉘에서도 실행 가능합니다. 파이썬 프로그래머들은 기본 파이썬 쉘보다 좀 더 미려하고 자동 완성 기능 같은 편리함이 더해진 IPython 쉘을 더 좋아합니다. 아나콘다 배포판을 설치하면 IPython을 바로 사용할 수 있습니다. IPython 명령은 `ipython`이고 실행 화면은 다음 그림과 같습니다. 기본 파이썬 쉘 보다 조금 더 나아보이지 않나요?"
   ]
  },
  {
   "cell_type": "markdown",
   "metadata": {
    "colab_type": "text",
    "id": "RfTiZxiUsc-K"
   },
   "source": [
    "IPython의 대화형 쉘\n",
    "\n",
    "![대체 텍스트](https://drive.google.com/uc?id=1DkTFkGknuOjr4p4qUVTXyOmTYMKqVF9T =500x)"
   ]
  },
  {
   "cell_type": "markdown",
   "metadata": {
    "colab_type": "text",
    "id": "LU-kIl-Hsc5u"
   },
   "source": [
    "파일을 만들지 않고 이런 쉘을 사용하는 이유는 무엇일까요? 프로그램을 만들다 보면 몇 줄 짜리 코드를 실험해 볼 일이 많습니다. 이 때마다 파일을 만들어 실행해야 한다면 여간 귀찮은 일이 아닙니다. 파이썬 쉘은 간단한 코드를 즉시 실험하고 결과를 확인할 수 있어 편리합니다. 프로그래머는 게으르니까요!"
   ]
  },
  {
   "cell_type": "markdown",
   "metadata": {
    "colab_type": "text",
    "id": "PCYY2bxMM6MQ"
   },
   "source": [
    "<퀴즈>\n",
    "파이썬의 대화형 쉘을 실행하는 명령이 아닌 것은 무엇인가요?\n",
    "\n",
    "1. python\n",
    "2. ipython\n",
    "3. upython\n",
    "\n",
    "정답: 3"
   ]
  },
  {
   "cell_type": "markdown",
   "metadata": {
    "colab_type": "text",
    "id": "cRHvuXlqWUUk"
   },
   "source": [
    "## 주피터 노트북을 사용해 코드를 실행합니다"
   ]
  },
  {
   "cell_type": "markdown",
   "metadata": {
    "colab_type": "text",
    "id": "aQUhd0y8scxS"
   },
   "source": [
    "IPython은 여기에서 멈추지 않고 이런 REPL 개발 환경을 웹 브라우저로 확장시켰습니다. 이를 주피터 노트북(Jupyter Notebook)이라고 합니다. 생각해보면 쉘에서 코드를 입력하고 결과를 확인하는 방식은 인터넷에서 검색을 하거나 댓글을 다는 것과 유사합니다. 웹 브라우저는 대화형 환경을 위한 최상의 도구입니다. 다음 그림은 노트북 서버가 웹 브라우저에게 노트북 파일을 작성할 수 있도록 중계해 주는 모습을 잘 보여줍니다. 사용자가 노트북에 입력한 파이썬 코드는 커널(kernel)에 의해 실행되고 그 결과는 즉시 웹 브라우저로 전달됩니다."
   ]
  },
  {
   "cell_type": "markdown",
   "metadata": {
    "colab_type": "text",
    "id": "zNj2gCioscma"
   },
   "source": [
    "주피터 노트북 구성도\n",
    "\n",
    "![대체 텍스트](https://ipython.org/ipython-doc/3/_images/notebook_components.png =400x)\n",
    "\n",
    "User-사용자, websockets-웹소켓, browser-브라우저, notebook server-노트북 서버, notebook file-노트북 파일, kernel-커널\n",
    "\n",
    "<아래 코랩 구성도처럼 디자인 부탁 드립니다>"
   ]
  },
  {
   "cell_type": "markdown",
   "metadata": {
    "colab_type": "text",
    "id": "QBrE_fJmWVVv"
   },
   "source": [
    "**사이드바: 커널**\n",
    "\n",
    "커널(kernel)이란 용어는 다양한 곳에서 사용됩니다. 머신러닝에서는 어떤 알고리즘의 핵심 함수를 지칭하기도 하고 9장의 합성곱 신경망에서는 입력에 곱해지는 필터의 가중치를 말합니다. 주피터 노트북에서 커널은 노트북에 쓰여진 코드를 실행할 프로그래밍 환경을 말합니다. 대표적인 커널은 파이썬을 위한 IPython, R을 위한 IRkernel, 줄리아(Julia) 언어를 위한 IJulia가 있습니다. 전체 커널 목록은 다음 주소를 참고하세요([https://github.com/jupyter/jupyter/wiki/Jupyter-kernels]())."
   ]
  },
  {
   "cell_type": "markdown",
   "metadata": {
    "colab_type": "text",
    "id": "1imH0SDQWVSQ"
   },
   "source": [
    "주피터 노트북을 실행하는 명령은 `jupyter notebook`입니다. 실행 결과를 그림으로 확인해 보죠."
   ]
  },
  {
   "cell_type": "markdown",
   "metadata": {
    "colab_type": "text",
    "id": "H9JdziRvWVPa"
   },
   "source": [
    "주피터 노트북 실행 화면\n",
    "\n",
    "![대체 텍스트](https://drive.google.com/uc?id=1TsQSIL14SL3vllyJT6kytYek6wnZk4F0 =500x)\n",
    "\n",
    "주피터 노트북 대시보드\n",
    "\n",
    "![대체 텍스트](https://drive.google.com/uc?id=1EXEzDvT_z4MMgjQKXpR6EFuq6OVXbx4P =500x)\n"
   ]
  },
  {
   "cell_type": "markdown",
   "metadata": {
    "colab_type": "text",
    "id": "sdzXqKCaWU5o"
   },
   "source": [
    "주피터 노트북을 실행하면 노트북 서버를 로컬호스트(localhost), 즉 내 컴퓨터에서 실행했다는 안내 메시지가 나옵니다. 메시지에 포함된 주소를 복사하여 브라우저에서 접속할 수 있습니다. 주피터 노트북은 친절하게도 실행될 때 내 컴퓨터의 기본 웹 브라우저를 자동으로 띄워서 노트북 서버로 접속하여 줍니다. 브라우저에서 보이는 화면은 주피터 노트북 대시보드입니다. `jupyter notebook` 명령을 실행한 폴더의 목록이 보입니다. 목록에 보이는 `hello_world.ipynb` 파일을 클릭하여 열어 보겠습니다. 노트북 파일의 확장자는 ipynb 입니다."
   ]
  },
  {
   "cell_type": "markdown",
   "metadata": {
    "colab_type": "text",
    "id": "h62ISD8UhoIw"
   },
   "source": [
    "![대체 텍스트](https://drive.google.com/uc?id=19k2yHB_xNtpCB35IejyG0XwMrfNwjXUt =500x)"
   ]
  },
  {
   "cell_type": "markdown",
   "metadata": {
    "colab_type": "text",
    "id": "Rmf0x0QyhzcG"
   },
   "source": [
    "IPython 대화형 쉘과 비슷해 보이나요? 코드를 입력하는 셀(cell)이 있고 `print()` 함수의 결과가 바로 아래 출력되었습니다. 대화형 쉘과는 달리 노트북의 장점은 위 그림에서처럼 코드와 텍스트를 함께 쓸 수 있다는 점입니다. 심지어는 이미지도 함께 나타낼 수 있습니다. 노트북 파일 하나에 코드, 문서, 이미지, 실행 결과를 모두 담아 보관할 수 있기 때문에 데이터 분석 작업에 아주 유용합니다. 요즘 대부분의 딥러닝 튜토리얼이나 예제들은 모두 노트북 파일로 작성됩니다. 굳이 코드를 실행하지 않더라도 결과와 이미지를 볼 수 있기 때문이죠."
   ]
  },
  {
   "cell_type": "markdown",
   "metadata": {
    "colab_type": "text",
    "id": "AWWKcG5jjTQr"
   },
   "source": [
    "다양한 파이썬 프로그래밍 환경에 대해 조금 이해가 되셨나요? 앞서 이야기한 것처럼 직접 파이썬과 주피터 노트북을 설치하지 않고도 딥러닝을 배울 수 있습니다. 구글은 주피터 노트북과 구글 클라우드(Google Cloud)를 연결하여 누구나 딥러닝 개발을 할 수 있도록 무료로 제공합니다. 구글이 사용하는 주피터 노트북은 코랩(Colab)이라 부르며 주피터 노트북을 커스터마이징한 것입니다. 구글 계정만 있다면 코랩을 사용하여 무료로 구글 클라우드의 가상 서버를 마음껏 활용할 수 있습니다. 놀랍지 않나요? 다음 절에서 구글 코랩을 어떻게 사용하는지 자세히 알아 보겠습니다."
   ]
  },
  {
   "cell_type": "markdown",
   "metadata": {
    "colab_type": "text",
    "id": "M14m4RJYkmLu"
   },
   "source": [
    "# 02-2 구글 코랩"
   ]
  },
  {
   "cell_type": "markdown",
   "metadata": {
    "colab_type": "text",
    "id": "byfsvPgdmPLB"
   },
   "source": [
    "이 절에서는 구글 코랩(Colab)을 사용하는 법을 배우겠습니다. 코랩은 Colaboratory의 줄여서 부르는 말입니다. 교육과 과학 연구를 위한 목적으로 개발되었습니다. 구글 내부에서 먼저 사용하였고 2017년에 무료로 공개하였습니다. 코랩을 이전 절에서 보았던 주피터 노트북의 구성도와 비슷하게 그려 보죠. 이해하는데 훨씬 도움이 될 것입니다."
   ]
  },
  {
   "cell_type": "markdown",
   "metadata": {
    "colab_type": "text",
    "id": "ecdVJtJu0vQ3"
   },
   "source": [
    "![대체 텍스트](https://drive.google.com/uc?id=14Kl65nEhF-PPkU2YR0jGZT4QQY10SQNL =400x)"
   ]
  },
  {
   "cell_type": "markdown",
   "metadata": {
    "colab_type": "text",
    "id": "FYpCQ6b-3tdw"
   },
   "source": [
    "이전 절에서 보았던 주피터 노트북의 구성과 매우 비슷하죠? 코랩의 노트북은 구글 클라우드의 가상 서버에서 실행됩니다. 작성된 노트북은 구글 드라이브(Google Drive)에 저장됩니다. 구글 클라우드를 사용하지만 전혀 비용이 들지 않습니다. 사실 이 책은 전부 코랩의 노트북을 사용하여 작성하였습니다!"
   ]
  },
  {
   "cell_type": "markdown",
   "metadata": {
    "colab_type": "text",
    "id": "00mzgjUv0tWs"
   },
   "source": [
    "코랩을 사용하기 위해서는 구글 계정이 필요합니다. 아직 구글 계정이 없다면 다음 주소에서 먼저 계정을 만들어야 합니다([https://accounts.google.com/SignUp?hl=ko]()). 구글 계정을 가지고 있다면 먼저 로그인해 주세요([https://accounts.google.com/Login?hl=ko]())."
   ]
  },
  {
   "cell_type": "markdown",
   "metadata": {
    "colab_type": "text",
    "id": "Jmbd5QX-nYUU"
   },
   "source": [
    "## <직접 해보세요!> 코랩에 들어가 봅니다"
   ]
  },
  {
   "cell_type": "markdown",
   "metadata": {
    "colab_type": "text",
    "id": "Q8zVXJStoU-K"
   },
   "source": [
    "1. 코랩을 사용하는 방법은  간단합니다. 웹 브라우저에서 https://colab.research.google.com/ 주소에 접속하는 것이 전부입니다. 다음과 같은 화면을 볼 수 있습니다. 아직 구글 계정에 로그인하지 않았다면 아래 그림처럼 오른쪽 위에 로그인 버튼이 보입니다. 구글 클라우드의 가상 서버를 사용하거나 작성한 노트북을 구글 드라이드에 저장하려면 구글 계정에 로그인해야 합니다. 코랩의 기본 노트북은 welcome.ipynb 입니다. 이 파일을 조금 수정하여 구글 드라이브에 저장해 보겠습니다. 다음을 진행하기 전에 구글 계정에 로그인해주세요.\n",
    "\n"
   ]
  },
  {
   "cell_type": "markdown",
   "metadata": {
    "colab_type": "text",
    "id": "-OiDlU1rIKps"
   },
   "source": [
    "![대체 텍스트](https://drive.google.com/uc?id=1c1iTuEaBob50exOIM-148DmAwx2TBula =500x)"
   ]
  },
  {
   "cell_type": "markdown",
   "metadata": {
    "colab_type": "text",
    "id": "YTAIeFm5Ks5w"
   },
   "source": [
    "2. 노트북에는 코드 셀(cell)과 텍스트 셀이 있습니다. welcome.ipynb 노트북 맨 위에 \"Colaboratory에 오신 것을 환영합니다!\"라는 문구로 시작하는 텍스트 영역이 텍스트 셀입니다. 텍스트 셀의 내용을 수정하고 싶을 땐 마우스로 더블 클릭하거나 포커스가 맞춰져 있는 경우 엔터(Enter) 키를 누르면 됩니다. 텍스트 셀의 편집 모드로 들어가면 막다운(markdown) 에디터 영역이 위에 놓이고 화면에 보여질 내용이 아래 표시됩니다. 편집을 끝낼 땐 ESC 키를 누르세요. 환영 메시지를 \"나의 첫 번째 Colaboratory 노트북입니다!\"와 같이 수정해 보죠."
   ]
  },
  {
   "cell_type": "markdown",
   "metadata": {
    "colab_type": "text",
    "id": "NOVw20iNMNSg"
   },
   "source": [
    "![대체 텍스트](https://drive.google.com/uc?id=12rM1_iySVPaHUXZ57Apw1Sy4-kFKjqSA =500x)"
   ]
  },
  {
   "cell_type": "markdown",
   "metadata": {
    "colab_type": "text",
    "id": "s3SAl-1FMp8p"
   },
   "source": [
    "3. 환영 메시지 셀이 잘 변경되었나요? 이번엔 셀을 추가해 보겠습니다. 마우스를 셀의 아래쪽 경계 중앙 근처로 이동시키면 셀을 추가할 수 있는 두 개의 버튼이 나타납니다. 코드 셀과 텍스트 셀을 추가할 수 있습니다. 마우스를 사용하지 않고 키보드로 셀을 추가하는 방법은 잠시 후에 설명하겠습니다. 여기서는 텍스트 버튼을 클릭해서 텍스트 셀을 추가합니다."
   ]
  },
  {
   "cell_type": "markdown",
   "metadata": {
    "colab_type": "text",
    "id": "He50x2ayOOKw"
   },
   "source": [
    "![대체 텍스트](https://drive.google.com/uc?id=1RD_HO-nJAcjkoWv7mJOP1N3P76wLHcjC =500x)"
   ]
  },
  {
   "cell_type": "markdown",
   "metadata": {
    "colab_type": "text",
    "id": "Ioi5qspXPuM3"
   },
   "source": [
    "추가된 텍스트 셀에 \"Do It 딥러닝\"이라고 써 보겠습니다. 편집 모드를 마치려면 ESC 키를 누릅니다."
   ]
  },
  {
   "cell_type": "markdown",
   "metadata": {
    "colab_type": "text",
    "id": "qk8LGV4_P9tM"
   },
   "source": [
    "![대체 텍스트](https://drive.google.com/uc?id=11CQFMFvrgp3vKL9HsMhp9Fl-Ee1AP2ey =500x)"
   ]
  },
  {
   "cell_type": "markdown",
   "metadata": {
    "colab_type": "text",
    "id": "7rxPgFTzQa-Q"
   },
   "source": [
    "4. 이렇게 노트북에 새로운 텍스트를 추가하고 수정하는 작업은 아주 쉽습니다. 프로그램 코드와 함께 자세한 설명을 추가할 수 있는 것이 주피터 노트북의 큰 인기 비결 중 하나입니다. 다음엔 첫 번째 코드 셀을 추가해 보겠습니다. 텍스트 셀을 추가할 때 처럼 마우스를 셀의 아래쪽으로 이동합니다. 코드 버튼을 눌러서 코드 셀을 추가합니다. 코드 셀에 `print('Hello, Do It 딥러닝')`을 입력해 보세요. 입력한 후 코드 셀을 실행하려면 셀 편집 모드 왼쪽에 나타난 삼각형 아이콘을 클릭하거나 Ctrl+Enter 키를 누릅니다."
   ]
  },
  {
   "cell_type": "markdown",
   "metadata": {
    "colab_type": "text",
    "id": "hXk2Q0MqTR4X"
   },
   "source": [
    "![대체 텍스트](https://drive.google.com/uc?id=1ygfa7JzMv8jFo1z6hISzKw4aImyLexc6 =500x)"
   ]
  },
  {
   "cell_type": "markdown",
   "metadata": {
    "colab_type": "text",
    "id": "BWoUekeUnYJl"
   },
   "source": [
    "## <직접 해보세요!> 코랩에서 노트북 파일을 하나 만들어 봅니다"
   ]
  },
  {
   "cell_type": "markdown",
   "metadata": {
    "colab_type": "text",
    "id": "ZVP9WEPCORUm"
   },
   "source": [
    "주피터 노트북을 사용해 본 적이 있다면 코랩의 노트북이 매우 유사하다는 것을 눈치챘을 것 같습니다. 주피터 노트북은 노트북 서버가 실행된 컴퓨터에 작업한 노트북 파일을 저장합니다. 코랩에서 사용하는 가상 서버는 영구적이지 않기 때문에 서버에 노트북을 저장할 수는 없습니다. 대신 작업한 노트북을 구글 클라우드에 저장할 수 있습니다. [파일 → 드라이브에 사본 저장]을 선택하면 구글 드라이브에 작업한 노트북을 저장하고 저장된 노트북을 새탭에서 열어서 보여줍니다. 저장된 파일 이름은 '안녕하세요, Colaboratory입니다의 사본'입니다. 이 파일은 구글 드라이브의 'Colab Notebooks' 폴더에 저장됩니다. 브라우저로 구글 드라이브([drive.google.com](https://drive.google.com/))에 접속해서 확인해 보죠."
   ]
  },
  {
   "cell_type": "markdown",
   "metadata": {
    "colab_type": "text",
    "id": "iNwpbCGsP-dO"
   },
   "source": [
    "![대체 텍스트](https://drive.google.com/uc?id=1tolePxPm2jzdgj1KozOoqPRfvgu7nbSt =500x)"
   ]
  },
  {
   "cell_type": "markdown",
   "metadata": {
    "colab_type": "text",
    "id": "0tQsOQT2QvyI"
   },
   "source": [
    "물론 구글 드라이브에서도 코랩의 노트북을 열 수 있습니다. 노트북 파일에 마우스 오른쪽 버튼을 눌러 팝업 메뉴를 띄웁니다. '연결 앱' 메뉴 아래에서 'Colaboratory'를 선택합니다."
   ]
  },
  {
   "cell_type": "markdown",
   "metadata": {
    "colab_type": "text",
    "id": "1K5SX86QRmyj"
   },
   "source": [
    "![대체 텍스트](https://drive.google.com/uc?id=1KU7C3hLF2Q50G0TkcZylVTCkATLjkww_ =500x)"
   ]
  },
  {
   "cell_type": "markdown",
   "metadata": {
    "colab_type": "text",
    "id": "1JcHwxDUUEKP"
   },
   "source": [
    "코랩에서 새로운 파일을 만들면 항상 구글 드라이브의 'Colab Notebooks' 폴더 아래 저장됩니다. 노트북 파일을 다른 폴더에서 관리하고 싶다면 원하는 폴더에서 구글 드라이브의 '새로 만들기' 버튼을 사용하거나 마우스 오른쪽 버튼을 눌러 '더보기' 메뉴 아래에 있는 'Colaboratory'를 선택하세요. 코랩에서 [파일 → 노트 열기] 메뉴를 사용하면 이전에 사용했던 노트북 파일이나 구글 드라이브에 있는 노트북을 손쉽게 열 수 있습니다."
   ]
  },
  {
   "cell_type": "markdown",
   "metadata": {
    "colab_type": "text",
    "id": "VhhdpoB1nX9z"
   },
   "source": [
    "## <직접 해보세요!> 노트북 사용법을 조금 더 자세히 배워보죠"
   ]
  },
  {
   "cell_type": "markdown",
   "metadata": {
    "colab_type": "text",
    "id": "36GalNxyWqCS"
   },
   "source": [
    "셀을 삭제하려면 마우스로 해당 셀을 한번 클릭하고 셀 오른쪽 끝에 나타난 버튼을 눌러 '셀 삭제'를 선택하세요. 키보드 단축기로도 셀을 삭제할 수 있습니다. Ctrl+M D를 누르면 현재 포커스되어 있는 셀이 삭제됩니다."
   ]
  },
  {
   "cell_type": "markdown",
   "metadata": {
    "colab_type": "text",
    "id": "oYdzyFwudRJ-"
   },
   "source": [
    "![대체 텍스트](https://drive.google.com/uc?id=1L9TPZ3KlFAJkHoOtqSQF03TIkucFmOiK =500x)"
   ]
  },
  {
   "cell_type": "markdown",
   "metadata": {
    "colab_type": "text",
    "id": "dr9MTgZsbvAY"
   },
   "source": [
    "코드 셀을 실행할 때 Shift+Enter를 누르면 현재 셀이 실행되고 포커스가 다음 셀로 이동합니다. 텍스트 셀에서는 편집을 마치고 다음 셀로 이동합니다. Alt+Enter 키를 누르면 현재 셀이 실행되고 그 아래 새로운 셀을 삽입한 후 포커스가 이동됩니다. 노트북의 마지막 셀이라면 Shift+Enter는 더이상 이동할 셀이 없으므로 현재 셀에 머무릅니다. Alt+Enter는 새로운 셀을 계속 추가합니다."
   ]
  },
  {
   "cell_type": "markdown",
   "metadata": {
    "colab_type": "text",
    "id": "BlPdUNeqexsO"
   },
   "source": [
    "코랩 메뉴 아래 4개의 아이콘이 있습니다. 왼쪽 두 개는 각각 현재 위치에서 코드 셀과 텍스트 셀을 추가하는 버튼입니다. 오른쪽 두 개는 현재 셀을 위로 또는 아래 셀과 위치를 바꾸는 버튼입니다."
   ]
  },
  {
   "cell_type": "markdown",
   "metadata": {
    "colab_type": "text",
    "id": "i09NBlu6fGHs"
   },
   "source": [
    "![대체 텍스트](https://drive.google.com/uc?id=1XGyUmZAdSxk0LKqvnTUA1rV2SDe1M6eW =500x)"
   ]
  },
  {
   "cell_type": "markdown",
   "metadata": {
    "colab_type": "text",
    "id": "ZRInUT-ghFW-"
   },
   "source": [
    "코랩은 자주 사용하는 기능에 단축키가 지정되어 있고 사용자가 추가하거나 변경할 수도 있습니다. 전체 단축키를 보려면 [도구 → 단축키]를 선택하거나 Ctrl+M H를 누릅니다. 단축키 대신 원하는 명령을 키보드로 찾을 수 있는 명령어 팔레트 기능도 제공합니다. 명령어 팔레트를 사용하면 필요한 기능을 이름으로 찾을 수 있기 때문에 단축키를 모두 외우지 않고도 키보드만으로 작업할 수 있습니다. [도구 → 명령어 팔레트] 메뉴를 선택할 수 있지만 마우스를 쓴다면 명령어 팔레트를 쓰는 장점이 없습니다. 명령어 팔레트의 단축키는 Ctrl+Shift+P 입니다. 명령어를 고를 수 있는 작은 팝업 창이 뜨면 필요한 메뉴를 입력해 보세요. 입력한 글자에 맞는 명령이 자동으로 검색됩니다. 키보드 화살표 버튼으로 원하는 명령을 고른다음 Enter 키를 눌러 명령을 실행합니다."
   ]
  },
  {
   "cell_type": "markdown",
   "metadata": {
    "colab_type": "text",
    "id": "Scb7sdQdkgDF"
   },
   "source": [
    "![대체 텍스트](https://drive.google.com/uc?id=1-PrNWoXyeziJ72Qe8Mo8cIykejUkX7kP =500x)"
   ]
  },
  {
   "cell_type": "markdown",
   "metadata": {
    "colab_type": "text",
    "id": "ANeYYLVfmz53"
   },
   "source": [
    "# 02-3 넘파이"
   ]
  },
  {
   "cell_type": "markdown",
   "metadata": {
    "colab_type": "text",
    "id": "kTpw-HCUnRp2"
   },
   "source": [
    "넘파이(NumPy)는 파이썬의 핵심 과학 라이브러리 중 하나입니다. 많은 머신러닝, 딥러닝 라이브러리들이 넘파이를 기반으로 구현되었고 넘파이 인터페이스를 계승하고 있기 때문에 꼭 익숙해져야 합니다. 넘파이 라이브러리는 방대하기 때문에 여기에서 모든 내용을 자세히 다루지는 않습니다. 책을 진행하면서 필요할 때마다 넘파이 기능을 소개하겠습니다. 이 절에서는 넘파이가 무엇인지, 어떤 작업을 하는지 간단히 소개하겠습니다. 더불어 앞서 만든 코랩 노트북에서 넘파이 실습도 해보겠습니다."
   ]
  },
  {
   "cell_type": "markdown",
   "metadata": {
    "colab_type": "text",
    "id": "35aAXZtAc4Xd"
   },
   "source": [
    "## 파이썬 리스트"
   ]
  },
  {
   "cell_type": "markdown",
   "metadata": {
    "colab_type": "text",
    "id": "g0Tsu5oinRdC"
   },
   "source": [
    "모든 프로그래밍 언어에는 배열의 개념을 다룰 수 있는 기능이 있습니다. 파이썬에는 리스트란 이름으로 배열 기능을 제공합니다. 저수준의 언어는 배열에 한 종류의 데이터만 담을 수 있고 파이썬 같은 고수준 언어들은 여러 종류의 데이터를 하나의 배열에 넣을 수 있습니다. 배열의 원소를 참조할 때는 공통적으로 숫자 인덱스를 사용합니다. 다음 코드는 두 개의 숫자와 하나의 문자열로 이루어진 파이썬 리스트입니다. 리스트의 인덱스는 0부터 시작하기 때문에 두 번째 원소를 참조하기 위해 인덱스 1을 사용합니다."
   ]
  },
  {
   "cell_type": "code",
   "execution_count": 19,
   "metadata": {
    "colab": {
     "base_uri": "https://localhost:8080/",
     "height": 35
    },
    "colab_type": "code",
    "executionInfo": {
     "elapsed": 885,
     "status": "ok",
     "timestamp": 1538325361489,
     "user": {
      "displayName": "Haesun Park",
      "photoUrl": "",
      "userId": "14935388527648823821"
     },
     "user_tz": -540
    },
    "id": "i6c2xjWYnAY6",
    "outputId": "8e3a408c-310e-4383-ef79-32d90396d92f"
   },
   "outputs": [
    {
     "name": "stdout",
     "output_type": "stream",
     "text": [
      "hello list\n"
     ]
    }
   ],
   "source": [
    "my_list = [10, 'hello list', 20]\n",
    "print(my_list[1])"
   ]
  },
  {
   "cell_type": "markdown",
   "metadata": {
    "colab_type": "text",
    "id": "RmcKOBCWnIAS"
   },
   "source": [
    "리스트 원소로 다른 리스트를 포함할 수 있습니다. 이렇게 중첩된 배열을 2차원 배열이라고 부릅니다. 2차원 배열은 바둑판 모양을 생각하면 이해하기 쉽습니다. 바둑판의 한 행이 1차원 배열입니다. 이 배열을 여러개 쌓으면 2차원 배열이 됩니다. 다음 코드는 파이썬 리스트로 3개의 원소를 가진 1차원 배열을 2개 쌓는 예입니다. 파이썬의 리스트는 어떤 데이터 타입도 담을 수 있지만 이해를 쉽게 하기 위해 숫자만 넣었습니다."
   ]
  },
  {
   "cell_type": "code",
   "execution_count": 20,
   "metadata": {
    "colab": {
     "base_uri": "https://localhost:8080/",
     "height": 35
    },
    "colab_type": "code",
    "executionInfo": {
     "elapsed": 888,
     "status": "ok",
     "timestamp": 1538325362477,
     "user": {
      "displayName": "Haesun Park",
      "photoUrl": "",
      "userId": "14935388527648823821"
     },
     "user_tz": -540
    },
    "id": "v6MIiDoBoPXB",
    "outputId": "bcd7d44f-4477-4cdf-d859-7bcd2f19d413"
   },
   "outputs": [
    {
     "name": "stdout",
     "output_type": "stream",
     "text": [
      "50\n"
     ]
    }
   ],
   "source": [
    "my_list_2 = [[10, 20, 30], [40, 50, 60]]\n",
    "print(my_list_2[1][1])"
   ]
  },
  {
   "cell_type": "markdown",
   "metadata": {
    "colab_type": "text",
    "id": "Ma_rzdKCoZRd"
   },
   "source": [
    "이 리스트의 크기를 보통 2x3 이라고 이야기 합니다. 두 개의 행이 있고 세 개의 열(첫 번째 행의 원소 개수)이 있습니다. 2차원 배열의 원소를 선택할 때는 위에서처럼 두 개의 대괄호를 사용합니다. 첫 번째 대괄호에서는 행의 인덱스를 넣고 두 번째 대괄호에서는 열의 인덱스를 넣습니다. 역시 모든 인덱스는 0부터 시작합니다. 두 번째 행의 두 번째 열을 선택했기 때문에 50이 출력되었습니다. 배열을 한 번 더 중첩시키면 3차원 배열이 됩니다. 큐브와 같이 생각하면 좋습니다. 4차원 배열부터는 실제 세상과 비교할 수 없습니다. 이 때부터는 배열을 포함한 배열이 계속 누적되어 있는 것으로 생각해야 합니다."
   ]
  },
  {
   "cell_type": "markdown",
   "metadata": {
    "colab_type": "text",
    "id": "aWSzhkwcdFo1"
   },
   "source": [
    "## 넘파이 로드하기"
   ]
  },
  {
   "cell_type": "markdown",
   "metadata": {
    "colab_type": "text",
    "id": "6RKOThWHpDUK"
   },
   "source": [
    "넘파이는 다차원 배열을 위한 라이브러리입니다. 위에서처럼 파이썬의 리스트로도 만들 수 있지만 크기가 커지면 성능이 낮습니다. 넘파이는 C, Fortran과 같은 저수준 언어로 다차원 배열을 구현했기 때문에 높은 성능을 제공합니다. 또 배열을 이용한 다양한 통계, 수학 함수도 제공하고 있습니다. 코랩에는 당연히 넘파이가 설치되어 있습니다. 다음 명령으로 넘파이 패키지를 임포트합니다."
   ]
  },
  {
   "cell_type": "code",
   "execution_count": 21,
   "metadata": {
    "colab": {
     "base_uri": "https://localhost:8080/",
     "height": 35
    },
    "colab_type": "code",
    "executionInfo": {
     "elapsed": 905,
     "status": "ok",
     "timestamp": 1538325363484,
     "user": {
      "displayName": "Haesun Park",
      "photoUrl": "",
      "userId": "14935388527648823821"
     },
     "user_tz": -540
    },
    "id": "ZYdIzZlUqzRQ",
    "outputId": "b9d905e5-b644-419c-ea0e-d76e519f50c1"
   },
   "outputs": [
    {
     "name": "stdout",
     "output_type": "stream",
     "text": [
      "1.14.6\n"
     ]
    }
   ],
   "source": [
    "import numpy as np\n",
    "print(np.__version__)"
   ]
  },
  {
   "cell_type": "markdown",
   "metadata": {
    "colab_type": "text",
    "id": "SU7xLfFyq310"
   },
   "source": [
    "파이썬의 `import` 명령은 다른 라이브러리를 사용하기 위해 불러들이는 명령입니다. `as` 키워드는 불러들인 `numpy` 패키지를 `np`란 이름으로 별칭을 만듭니다. 파이썬 프로그래머들은 이름이 조금이라도 길면 줄여서 쓰려고 하거든요. `np`는 넘파이를 줄여서 쓰는 전통 깊은 닉네임입니다. 파이썬의 패키지들은 `__version__` 속성에 버전 번호를 가지고 있습니다. 내가 사용하는 라이브러리 버전이 얼마인지 알아두면 문제가 생겼을 때 도움을 청하기 쉽습니다."
   ]
  },
  {
   "cell_type": "markdown",
   "metadata": {
    "colab_type": "text",
    "id": "zAKyxP_ydXX_"
   },
   "source": [
    "<사이드팁>아직까지 저는 다른 이름으로 넘파이 별칭을 만드는 것을 못 봤습니다. 이 책을 읽다 보면 이렇게 관례적인 용법을 많이 보게 될텐데요. 다른 사람과 소통을 위해서도 이런 관례를 따르는 것이 좋습니다.</사이드팁>"
   ]
  },
  {
   "cell_type": "markdown",
   "metadata": {
    "colab_type": "text",
    "id": "CAnV0Zltdghl"
   },
   "source": [
    "## <직접 해보세요!> 넘파이로 배열 만들기"
   ]
  },
  {
   "cell_type": "markdown",
   "metadata": {
    "colab_type": "text",
    "id": "Nou_o6XpnRM2"
   },
   "source": [
    "1. 넘파이를 로드했으니 배열을 하나 만들어 보죠. 넘파이는 파이썬의 리스트처럼 여러 종류의 데이터를 담을 수 없습니다. 사실 딥러닝을 사용하면서 우리가 다루는 데이터들은 모두 숫자입니다. 문자 데이터가 있더라도 결국은 숫자로 바꾸어서 입력하죠. 다음 코드는 위에서 파이썬 리스트로 만들었던 것과 같은 2차원 배열을 만듭니다."
   ]
  },
  {
   "cell_type": "code",
   "execution_count": 22,
   "metadata": {
    "colab": {
     "base_uri": "https://localhost:8080/",
     "height": 52
    },
    "colab_type": "code",
    "executionInfo": {
     "elapsed": 1063,
     "status": "ok",
     "timestamp": 1538325364645,
     "user": {
      "displayName": "Haesun Park",
      "photoUrl": "",
      "userId": "14935388527648823821"
     },
     "user_tz": -540
    },
    "id": "WyB0D8g_t7lC",
    "outputId": "01658377-4ba2-4db7-9728-8eb64b9eb44e"
   },
   "outputs": [
    {
     "name": "stdout",
     "output_type": "stream",
     "text": [
      "[[10 20 30]\n",
      " [40 50 60]]\n"
     ]
    }
   ],
   "source": [
    "my_arr = np.array([[10, 20, 30], [40, 50, 60]])\n",
    "print(my_arr)"
   ]
  },
  {
   "cell_type": "markdown",
   "metadata": {
    "colab_type": "text",
    "id": "INxR8C48u3FT"
   },
   "source": [
    "2. 넘파이 배열을 출력하면 친절하게도 행과 열을 맞추어 출력합니다. `np.array()` 함수는 대표적으로 파이썬 리스트를 입력받아 넘파이 배열을 만듭니다. `my_arr`가 파이썬 리스트가 아니고 넘파이 배열임을 확인하기 위해서 파이썬의 `type()` 함수로 객체의 타입을 확인해 보죠."
   ]
  },
  {
   "cell_type": "code",
   "execution_count": 23,
   "metadata": {
    "colab": {
     "base_uri": "https://localhost:8080/",
     "height": 35
    },
    "colab_type": "code",
    "executionInfo": {
     "elapsed": 930,
     "status": "ok",
     "timestamp": 1538325365679,
     "user": {
      "displayName": "Haesun Park",
      "photoUrl": "",
      "userId": "14935388527648823821"
     },
     "user_tz": -540
    },
    "id": "-E8JBNIJu0v_",
    "outputId": "b8709747-0867-4b18-b194-fba0ff78dd77"
   },
   "outputs": [
    {
     "data": {
      "text/plain": [
       "numpy.ndarray"
      ]
     },
     "execution_count": 23,
     "metadata": {
      "tags": []
     },
     "output_type": "execute_result"
    }
   ],
   "source": [
    "type(my_arr)"
   ]
  },
  {
   "cell_type": "markdown",
   "metadata": {
    "colab_type": "text",
    "id": "Blzrw-0pti8O"
   },
   "source": [
    "`my_arr`가 넘파이 배열 클래스인 `ndarray`의 객체라는 것이 확인되었습니다. 방금 전 셀이 조금 다른 것을 느끼셨나요? 코드 셀에서 마지막 라인의 코드는 `print()` 함수를 사용하지 않아도 자동으로 그 결과가 출력됩니다. 다른 사람이 작성한 노트북을 보다 보면 이렇게 마지막 라인에 `print()` 함수가 빠진 경우를 자주 보게 됩니다. 이 책에서도 종종 사용하겠습니다."
   ]
  },
  {
   "cell_type": "markdown",
   "metadata": {
    "colab_type": "text",
    "id": "3JX_zRb4zIFx"
   },
   "source": [
    "3. 넘파이 배열의 원소를 선택하는 것은 파이썬 리스트에서 했던 것과 동일합니다. 인덱스는 0에서 부터 시작하므로 첫 번째 행의 세 번째 원소를 선택하려면 다음과 같이 씁니다."
   ]
  },
  {
   "cell_type": "code",
   "execution_count": 24,
   "metadata": {
    "colab": {
     "base_uri": "https://localhost:8080/",
     "height": 35
    },
    "colab_type": "code",
    "executionInfo": {
     "elapsed": 930,
     "status": "ok",
     "timestamp": 1538325366680,
     "user": {
      "displayName": "Haesun Park",
      "photoUrl": "",
      "userId": "14935388527648823821"
     },
     "user_tz": -540
    },
    "id": "FYRVVtpCzHC_",
    "outputId": "c915a361-9bd5-4b8d-8058-7baba53f6b2a"
   },
   "outputs": [
    {
     "data": {
      "text/plain": [
       "30"
      ]
     },
     "execution_count": 24,
     "metadata": {
      "tags": []
     },
     "output_type": "execute_result"
    }
   ],
   "source": [
    "my_arr[0][2]"
   ]
  },
  {
   "cell_type": "markdown",
   "metadata": {
    "colab_type": "text",
    "id": "kjSpMaokegzk"
   },
   "source": [
    "## <직접 해보세요!> 넘파이 내장 함수를 사용해 보죠"
   ]
  },
  {
   "cell_type": "markdown",
   "metadata": {
    "colab_type": "text",
    "id": "miBwuGaXzjNW"
   },
   "source": [
    "1. 넘파이 소개를 마치기 전에 넘파이가 제공하는 편리한 내장 함수 하나를 살펴 보겠습니다. 파이썬 리스트의 원소를 모두 더하려면 `for` 루프를 만들어야 합니다. 넘파이는 배열에 대한 여러 수학 함수를 제공하기 때문에 반복문을 쓰지 않고도 계산할 수 있습니다. `my_arr` 배열에 있는 모든 원소를 더해 보겠습니다."
   ]
  },
  {
   "cell_type": "code",
   "execution_count": 25,
   "metadata": {
    "colab": {
     "base_uri": "https://localhost:8080/",
     "height": 35
    },
    "colab_type": "code",
    "executionInfo": {
     "elapsed": 639,
     "status": "ok",
     "timestamp": 1538325367447,
     "user": {
      "displayName": "Haesun Park",
      "photoUrl": "",
      "userId": "14935388527648823821"
     },
     "user_tz": -540
    },
    "id": "0WALSGtj0V1I",
    "outputId": "75270bc3-180c-4935-a323-9a9a86adeffc"
   },
   "outputs": [
    {
     "data": {
      "text/plain": [
       "210"
      ]
     },
     "execution_count": 25,
     "metadata": {
      "tags": []
     },
     "output_type": "execute_result"
    }
   ],
   "source": [
    "np.sum(my_arr)"
   ]
  },
  {
   "cell_type": "markdown",
   "metadata": {
    "colab_type": "text",
    "id": "BCxC4el_0Xss"
   },
   "source": [
    "2. `np.sum()`은 배열의 원소를 모두 더해주는 함수입니다. 반복문을 만들어 하나씩 더하는 것보다 코드가 간결하고 실제로도 훨씬 빠르게 계산됩니다. 넘파이 내장 함수와 다양한 익덱스 사용 방법은 이 책을 진행하면서 더 자세히 소개하겠습니다."
   ]
  },
  {
   "cell_type": "markdown",
   "metadata": {
    "colab_type": "text",
    "id": "Q82Hyhri1Cc5"
   },
   "source": [
    "<퀴즈>\n",
    "`my_arr` 배열의 두 번째 행의 첫 번째 원소를 `print()` 함수로 출력해 보세요."
   ]
  },
  {
   "cell_type": "code",
   "execution_count": 26,
   "metadata": {
    "colab": {
     "base_uri": "https://localhost:8080/",
     "height": 35
    },
    "colab_type": "code",
    "executionInfo": {
     "elapsed": 934,
     "status": "ok",
     "timestamp": 1538325368477,
     "user": {
      "displayName": "Haesun Park",
      "photoUrl": "",
      "userId": "14935388527648823821"
     },
     "user_tz": -540
    },
    "id": "eWjHmkPJ1Q_k",
    "outputId": "4347a2a5-49d1-4dab-e709-b05fd8cd1f61"
   },
   "outputs": [
    {
     "name": "stdout",
     "output_type": "stream",
     "text": [
      "40\n"
     ]
    }
   ],
   "source": [
    "print(my_arr[1][0])"
   ]
  },
  {
   "cell_type": "markdown",
   "metadata": {
    "colab_type": "text",
    "id": "6Mp_N9cMm2zv"
   },
   "source": [
    "# 02-4 맷플롯립"
   ]
  },
  {
   "cell_type": "markdown",
   "metadata": {
    "colab_type": "text",
    "id": "fC-CQpADnTQY"
   },
   "source": [
    "맷플롯립(Matplotlib, [https://matplotlib.org](https://matplotlib.org))는 파이썬 과학 생태계의 표준 그래프 라이브러리입니다. 파이썬 생태계에는 맷플롯립 이외에도 좋은 그래프 도구들이 많이 있지만 맷플롯립에서 제공하는 기능으로 대부분 충분합니다. 아나콘다 배포판에는 물론 코랩에도 맷플롯립이 포함되어 있으므로 바로 사용할 수 있습니다. 먼저 맷플롯립을 임포트해 보죠. 여기에서도 다른 프로그래머들이 사용하는 관례를 따라 별칭을 사용합니다."
   ]
  },
  {
   "cell_type": "code",
   "execution_count": 0,
   "metadata": {
    "colab": {},
    "colab_type": "code",
    "id": "uA7hgZMSfEdI"
   },
   "outputs": [],
   "source": [
    "import matplotlib.pyplot as plt"
   ]
  },
  {
   "cell_type": "markdown",
   "metadata": {
    "colab_type": "text",
    "id": "kuhv7ppsfi8e"
   },
   "source": [
    "## <직접해 보세요> 선그래프 그리기"
   ]
  },
  {
   "cell_type": "markdown",
   "metadata": {
    "colab_type": "text",
    "id": "p25_5lglnSh8"
   },
   "source": [
    "1. 앞으로 맷플롯립으로 자주 그리게 될 그래프 중 하나는 선그래프입니다. x 축을 기준으로 y 축의 변화 추이를 살펴 보기 좋은 그래프죠. 선그래프를 그리려면 x 축의 값과 y 축의 값을 맷플롯립의 `plot()` 함수에 전달해야 합니다. 만들어진 그래프를 화면에 출력하려면 `show()` 함수를 사용합니다. y가 x의 제곱이 되는 $y = x^2$ 그래프를 그려 보죠."
   ]
  },
  {
   "cell_type": "code",
   "execution_count": 28,
   "metadata": {
    "colab": {
     "base_uri": "https://localhost:8080/",
     "height": 347
    },
    "colab_type": "code",
    "executionInfo": {
     "elapsed": 1562,
     "status": "ok",
     "timestamp": 1538325371221,
     "user": {
      "displayName": "Haesun Park",
      "photoUrl": "",
      "userId": "14935388527648823821"
     },
     "user_tz": -540
    },
    "id": "9a5QBQ0DhF9d",
    "outputId": "75bdd20a-3ab0-4f2d-b819-be367d1508d7"
   },
   "outputs": [
    {
     "data": {
      "image/png": "[encoded data removed]",
      "text/plain": [
       "<matplotlib.figure.Figure at 0x7f865a075750>"
      ]
     },
     "metadata": {
      "tags": []
     },
     "output_type": "display_data"
    }
   ],
   "source": [
    "plt.plot([1, 2, 3, 4, 5], [1, 4, 9, 16, 25]) # x 좌표와 y 좌표를 파이썬 리스트로 전달합니다.\n",
    "plt.show()"
   ]
  },
  {
   "cell_type": "markdown",
   "metadata": {
    "colab_type": "text",
    "id": "OY1_iWNaBekW"
   },
   "source": [
    "2. 자주 사용하는 또 하나의 그래프는 산점도(scatter plot)입니다. 데이터 포인트의 x, y 좌표에 점을 찍어서 그립니다. 선그래프에서 사용했던 포인트로 산점도를 그려 보죠."
   ]
  },
  {
   "cell_type": "markdown",
   "metadata": {
    "colab_type": "text",
    "id": "3k73hq9lCiXd"
   },
   "source": [
    "<사이드팁>앞서 `print()` 함수처럼 셀의 마지막 줄에 있는 `plt.show()` 명령은 사용하지 않아도 자동으로 노트북에 그래프를 그려줍니다. 하지만 출력이 조금 더 깔끔하고 이해하기 좋기 때문에 `plt.show()` 명령을 사용하는 것이 좋습니다.</사이드팁>"
   ]
  },
  {
   "cell_type": "code",
   "execution_count": 29,
   "metadata": {
    "colab": {
     "base_uri": "https://localhost:8080/",
     "height": 347
    },
    "colab_type": "code",
    "executionInfo": {
     "elapsed": 1287,
     "status": "ok",
     "timestamp": 1538325372561,
     "user": {
      "displayName": "Haesun Park",
      "photoUrl": "",
      "userId": "14935388527648823821"
     },
     "user_tz": -540
    },
    "id": "cTM7QMQPCDPg",
    "outputId": "d79836ec-af46-4c82-fb1e-f03b79c3e71c"
   },
   "outputs": [
    {
     "data": {
      "image/png": "[encoded data removed]",
      "text/plain": [
       "<matplotlib.figure.Figure at 0x7f865a003590>"
      ]
     },
     "metadata": {
      "tags": []
     },
     "output_type": "display_data"
    }
   ],
   "source": [
    "plt.scatter([1, 2, 3, 4, 5], [1, 4, 9, 16, 25])\n",
    "plt.show()"
   ]
  },
  {
   "cell_type": "markdown",
   "metadata": {
    "colab_type": "text",
    "id": "qvLhXqTPC7pk"
   },
   "source": [
    "3. 이번에는 넘파이 배열을 사용하여 산점도를 그려 보겠습니다. 파이썬의 과학 패키지들은 거의 예외없이 넘파이 배열로 데이터를 주고 받을 수 있도록 준비되어 있습니다. 여기에서는 넘파이의 `random.randn()` 함수를  사용하여 [표준 정규 분포](https://ko.wikipedia.org/wiki/정규_분포#표준_정규_분포)를 따르는 난수(random number)를 만들어 산점도를 그리겠습니다. `random.randn()`에는 정규 분포에서 샘플링할 데이터 포인트의 개수를 지정할 수 있습니다. 1,000개의 데이터 포인트를 만들어 보죠."
   ]
  },
  {
   "cell_type": "code",
   "execution_count": 30,
   "metadata": {
    "colab": {
     "base_uri": "https://localhost:8080/",
     "height": 347
    },
    "colab_type": "code",
    "executionInfo": {
     "elapsed": 1649,
     "status": "ok",
     "timestamp": 1538325374278,
     "user": {
      "displayName": "Haesun Park",
      "photoUrl": "",
      "userId": "14935388527648823821"
     },
     "user_tz": -540
    },
    "id": "1oUskZcrD0Wp",
    "outputId": "29ae4acf-2e6a-4599-fd3f-65e5d19f0683"
   },
   "outputs": [
    {
     "data": {
      "image/png": "[encoded data removed]",
      "text/plain": [
       "<matplotlib.figure.Figure at 0x7f8659e69110>"
      ]
     },
     "metadata": {
      "tags": []
     },
     "output_type": "display_data"
    }
   ],
   "source": [
    "x = np.random.randn(1000) # 표준 정규 분포를 따르는 난수 1,000개를 만듭니다.\n",
    "y = np.random.randn(1000) # 표준 정규 분포를 따르는 난수 1,000개를 만듭니다.\n",
    "plt.scatter(x, y)\n",
    "plt.show()"
   ]
  },
  {
   "cell_type": "markdown",
   "metadata": {
    "colab_type": "text",
    "id": "EBcVIwNhHX-8"
   },
   "source": [
    "지금까지 맷플롯립을 사용하여 간단한 그래프를 그려 보았습니다. 앞으로 소개할 맷플롯립의 기능이 매우 많습니다. 책을 읽으면서 중요한 기능들을 하나씩 소개하도록 하겠습니다. 이따금 데이터를 시각화하면 유용한 직관을 얻을 수 있습니다. 데이터 분석과 그래프 도구는 뗄레야 뗄 수 없는 사이죠. 다음은 본격적인 머신러닝, 딥러닝 라이브러리를 소개하겠습니다. 먼저 사이킷런(scikit-learn)부터 살펴 보겠습니다."
   ]
  },
  {
   "cell_type": "markdown",
   "metadata": {
    "colab_type": "text",
    "id": "WOuBC3T2m5jw"
   },
   "source": [
    "# 02-5 사이킷런"
   ]
  },
  {
   "cell_type": "markdown",
   "metadata": {
    "colab_type": "text",
    "id": "mmt-K8uenU8_"
   },
   "source": [
    "사이킷런(scikit-learn, [scikit-learn.org](http://scikit-learn.org))은 파이썬 머신러닝 라이브러리의 표준입니다. 파이썬을 사용한 머신러닝 책이라면 꼭 사이킷런이 포함되어 있을 것입니다. 사이킷런은 방대한 알고리즘과 머신러닝 작업에 꼭 필요한 중요한 도구를 갖추고 있기 때문에 인기가 높습니다. 알고리즘이 아니더라도 사이킷런에 포함된 다양한 도구를 활용하기 위해서라도 알아둘 필요가 있습니다. 이런 도구들은 머신러닝 작업 과정을 구성하는데 많은 도움을 줍니다. 이 책에서는 기본적인 머신러닝, 딥러닝 알고리즘을 직접 파이썬으로 만들면서 익히지만 실전을 위해 머신러닝 라이브러리를 사용하는 법도 함께 소개하겠습니다."
   ]
  },
  {
   "cell_type": "markdown",
   "metadata": {
    "colab_type": "text",
    "id": "B9uBF7vV-A4T"
   },
   "source": [
    "파이썬에서 코드를 담은 파일을 모듈(module)이라 부르고 이런 파일이 모인 폴더를 패키지(package)라고 부릅니다. 보통 파이썬 라이브러리들은 여러 개의 패키지와 모듈로 구성되어 있습니다. 패키지 안에 포함된 클래스를 지칭할 땐 각 이름을 '`.`'으로 연결합니다. 예를 들어 사이킷런의 최상위 패키지 이름은 `sklearn`입니다. 그 아래 `linear_model` 폴더에 `LinearRegression` 클래스가 들어 있습니다. "
   ]
  },
  {
   "cell_type": "code",
   "execution_count": 0,
   "metadata": {
    "colab": {},
    "colab_type": "code",
    "id": "XyEvOuCz-AO-"
   },
   "outputs": [],
   "source": [
    "import sklearn\n",
    "\n",
    "lr = sklearn.linear_model.LinearRegression"
   ]
  },
  {
   "cell_type": "markdown",
   "metadata": {
    "colab_type": "text",
    "id": "SRj0GtBoAOBn"
   },
   "source": [
    "클래스를 호출하기 위해 매번 이렇게 긴 이름을 쓰기는 번거롭습니다. 다행히 파이썬은 모듈이나 클래스 이름을 최상위 수준으로 임포트(import)하는 `from` 키워드를 제공합니다."
   ]
  },
  {
   "cell_type": "code",
   "execution_count": 0,
   "metadata": {
    "colab": {},
    "colab_type": "code",
    "id": "081CexbFBS4S"
   },
   "outputs": [],
   "source": [
    "from sklearn.linear_model import LinearRegression\n",
    "\n",
    "lr = LinearRegression()"
   ]
  },
  {
   "cell_type": "markdown",
   "metadata": {
    "colab_type": "text",
    "id": "hDFGn5yGBbU_"
   },
   "source": [
    "클래스나 함수의 이름만을 간편하게 사용할 수 있어서 많은 프로그래머들이 이런 방식을 즐겨 사용합니다. 앞으로 `from` 키워드를 사용한 임포트 명령을 자주 만날 것입니다. 앞 코드에서 `LinearRegression` 클래스의 객체(object) `lr`를 만들었습니다. 파이썬은 객체지향 언어입니다. 그래서 객체란 표현을 즐겨 사용합니다. 또는 클래스의 인스턴스(instance)라고도 부릅니다. 객체란 용어 때문에 너무 어렵게 생각하는 것보다는 클래스를 변수화한 것이라고 여겨도 좋습니다. `lr` 변수를 사용하여 `LinearRegression` 클래스에서 제공하는 다양한 기능을 사용할 수 있습니다.\n",
    "\n",
    "물론 `LinearRegression` 클래스가 무엇인지 궁금할 텐데요. 여기서 너무 깊게 들어가지 않겠습니다. 이어지는 장에서 이 클래스에 대해 상세하게 다루겠습니다. 여기서는 이 클래스가 제공하는 알고리즘을 선형 회귀(Linear Regression)라고 부르고 직선의 방정식 같은 수학 방정식을 만든다는 정도만 이해하고 넘어가겠습니다.\n",
    "\n",
    "앞서 $y=x^2$ 방정식으로 만든 다섯 개의 포인트를 그래프에 그렸습니다. 이 다섯 개의 포인트를 가장 근접하게 지나가는 직선의 방정식을 찾아 보죠. `LinearRegression` 클래스의 `fit` 메서드에 다섯 개의 포인트를 전달하면 자동으로 이런 직선을 찾아 줍니다. 사이킷런은 입력 `x`가 2차원 배열일 것으로 기대합니다. 그렇기 때문에 앞서 `plt.scatter` 메서드에 전달할 때 처럼 `[1, 2, 3, 4, 5]`와 같이 전달하지 않고 각 원소를 대괄호로 한 번 더 감싸서 `[[1], [2], [3], [4], [5]]`처럼 2차원 배열을 만듭니다."
   ]
  },
  {
   "cell_type": "code",
   "execution_count": 33,
   "metadata": {
    "colab": {
     "base_uri": "https://localhost:8080/",
     "height": 35
    },
    "colab_type": "code",
    "executionInfo": {
     "elapsed": 928,
     "status": "ok",
     "timestamp": 1538325377514,
     "user": {
      "displayName": "Haesun Park",
      "photoUrl": "",
      "userId": "14935388527648823821"
     },
     "user_tz": -540
    },
    "id": "dMeEiXBE0QwK",
    "outputId": "934e3c16-35b4-4796-a211-f048200ce98b"
   },
   "outputs": [
    {
     "name": "stdout",
     "output_type": "stream",
     "text": [
      "(array([6.]), -6.9999999999999964)\n"
     ]
    }
   ],
   "source": [
    "lr.fit([[1], [2], [3], [4], [5]], [1, 4, 9, 16, 25])\n",
    "print(lr.coef_, lr.intercept_)"
   ]
  },
  {
   "cell_type": "markdown",
   "metadata": {
    "colab_type": "text",
    "id": "g7CSUTr2MVcG"
   },
   "source": [
    "`fit` 메서드에 `x`와 `y` 값을 전달하여 찾은 직선 방정식의 기울기(slope)와 절편(intercept)은 `lr` 객체의 `coef_`와 `intercept_` 속성(attribute)에 각각 저장되어 있습니다. 기울기는 6이고 절편은 -7인 직선 방정식을 찾았습니다. 다섯 개 포인트의 산점도 위에 이 직선을 함께 그려 보겠습니다. 편의상 (0, -7) 포인트와 (5, 23) 포인트를 잇는 직선을 그립니다."
   ]
  },
  {
   "cell_type": "code",
   "execution_count": 34,
   "metadata": {
    "colab": {
     "base_uri": "https://localhost:8080/",
     "height": 347
    },
    "colab_type": "code",
    "executionInfo": {
     "elapsed": 1214,
     "status": "ok",
     "timestamp": 1538325378833,
     "user": {
      "displayName": "Haesun Park",
      "photoUrl": "",
      "userId": "14935388527648823821"
     },
     "user_tz": -540
    },
    "id": "R6amxaAL04y7",
    "outputId": "66cf6ca9-0f41-4d63-c136-14c85b49b7e2"
   },
   "outputs": [
    {
     "data": {
      "image/png": "[encoded data removed]",
      "text/plain": [
       "<matplotlib.figure.Figure at 0x7f8659e72190>"
      ]
     },
     "metadata": {
      "tags": []
     },
     "output_type": "display_data"
    }
   ],
   "source": [
    "plt.scatter([1, 2, 3, 4, 5], [1, 4, 9, 16, 25])\n",
    "plt.plot([0, 5], [-7, 23])\n",
    "plt.show()"
   ]
  },
  {
   "cell_type": "markdown",
   "metadata": {
    "colab_type": "text",
    "id": "VwmQBZQmnUwJ"
   },
   "source": [
    "결과 그래프를 보니 다섯 개의 포인트를 가장 근접하게 지나는 직선 방정식을 찾은 것 같습니다. 다르게 표현하면 이 데이터를 가장 잘 표현하는 수학 방정식을 찾은 셈입니다. 여러분은 벌써 하나의 머신러닝 모델을 만들었어요! 전부는 아니지만 많은 머신러닝 모델은 이렇게 어떤 수학 방정식으로 표현됩니다. 특히 우리가 이 책에서 다룰 딥러닝이 그렇습니다. 그렇다고 복잡한 수학을 알아야 하는 것은 아닙니다. 머신러닝은 과학보다는 공학에 가깝습니다. 약간의 이론을 이해할 필요가 있지만 실제 작업은 직관적이고 경험적인 경우가 많습니다. 이 책에서는 수학 이론이 필요한 경우 가능하면 최대한 쉽게 풀어서 설명하니 너무 걱정하지 마세요."
   ]
  },
  {
   "cell_type": "markdown",
   "metadata": {
    "colab_type": "text",
    "id": "PLkLyGWZm6MA"
   },
   "source": [
    "# 02-6 텐서플로와 케라스"
   ]
  },
  {
   "cell_type": "markdown",
   "metadata": {
    "colab_type": "text",
    "id": "3eJ3kkBcnWWS"
   },
   "source": [
    "이 책을 들었다면 아마 한 번쯤은 구글의 텐서플로(TensorFlow, [www.tensorflow.org](https://www.tensorflow.org))에 대해 들어 보았을 것입니다. 텐서플로는 구글이 만든 머신러닝과 딥러닝을 위한 소프트웨어 프레임워크입니다. 특히 딥러닝 라이브러리 중에서 가장 인기가 높습니다. 대부분의 머신러닝, 딥러닝 라이브러리들이 그렇듯이 텐서플로도 파이썬이 대표 API 언어입니다.\n",
    "\n",
    "텐서플로를 사용하는 방법은 사이킷런과 같은 다른 머신러닝 라이브러리들과는 많이 다릅니다. 가장 큰 이유는 계산 그래프(computation graph)라고 하는 구조를 사용하기 때문입니다. 텐서플로를 조금 더 쉽게 사용할 수 있도록 돕는 래퍼(wrapper) 라이브러리가 많이 등장했습니다. 그중에 케라스(Keras, [keras.io](https://keras.io/))가 가장 인기가 많습니다. 사실 케라스는 텐서플로 뿐만 아니라 씨아노(Theano)와 마이크로소프트의 CNTK 딥러닝 라이브러리와도 같이 사용할 수 있습니다. 텐서플로의 기능과 성능이 뛰어나기 때문에 대부분 케라스와 함께 사용하는 딥러닝 라이브러리는 텐서플로입니다.\n",
    "\n",
    "케라스는 순수한 파이썬 패키지이고 조금 더 쉽고 직관적인 API를 제공합니다. 사이킷런을 알고 있다면 케라스를 배우는데 조금 도움이 될 것입니다. 이 절에서는 텐서플로나 케라스에 대해 너무 자세히 다루지 않겠습니다. 이 책의 뒷부분에서 딥러닝의 고급 주제를 다룰 때 케라스를 사용합니다. 그 때까지 잠시 궁금증을 미루어 두죠. 머신러닝에 대한 기본 개념을 익히고 나면 케라스를 이해하기 훨씬 쉬울 것입니다."
   ]
  },
  {
   "cell_type": "markdown",
   "metadata": {
    "colab_type": "text",
    "id": "XJPjJMZvnWIj"
   },
   "source": [
    "# 02-7 요약"
   ]
  },
  {
   "cell_type": "markdown",
   "metadata": {
    "colab_type": "text",
    "id": "sHtOgoc8nVtT"
   },
   "source": [
    "이 장에서 머신러닝 개발을 위한 환경을 준비하기 위해 주피터 노트북과 코랩을 사용하는 방법을 배웠습니다. 실제로 우리 컴퓨터에 무언가를 설치한 것이 전혀 없습니다. 구글 클라우드와 코랩 서비스를 무료로 사용하여 딥러닝을 배울 준비를 마쳤습니다.\n",
    "\n",
    "이 책은 단계별로 머신러닝 모델을 파이썬으로 직접 구현해 보면서 그 이면에 있는 이론을 함께 배웁니다. 파이썬으로 머신러닝 모델을 구현할 때 필수적으로 사용할 넘파이 라이브러리를 둘러 보았습니다. 이 장에서 직선의 방정식 찾아서 학습한 모델을 확인했던 것처럼 데이터 분석 분야에서 시각화는 도움이 많이 됩니다. 이를 위해 맷플롯립 라이브러리를 사용합니다.\n",
    "\n",
    "이해를 위해서 머신러닝 모델을 직접 구현하지만 실전에서는 수준 높은 라이브러리를 이용하는 것이 당연합니다. 파이썬의 머신러닝 라이브러리인 사이킷런과 딥러닝 라이브러리인 케라스를 사용하겠습니다. 케라스는 구글의 텐서플로 프레임워크를 편리한 파이썬 API로 제공하는 파이썬 패키지입니다.\n",
    "\n",
    "이 라이브러리들은 모두 코랩에 이미 준비되어 있습니다. 각 라이브러리들의 버전을 알아 두면 개발 과정에서 버전 차이로 인한 혼돈을 줄일 수 있습니다. 이 책을 쓰는 시점의 코랩에 설치된 라이브러리 버전은 다음과 같습니다."
   ]
  },
  {
   "cell_type": "code",
   "execution_count": 39,
   "metadata": {
    "colab": {
     "base_uri": "https://localhost:8080/",
     "height": 35
    },
    "colab_type": "code",
    "executionInfo": {
     "elapsed": 832,
     "status": "ok",
     "timestamp": 1538325472985,
     "user": {
      "displayName": "Haesun Park",
      "photoUrl": "",
      "userId": "14935388527648823821"
     },
     "user_tz": -540
    },
    "id": "do5d9WOQVbPj",
    "outputId": "7492fcf8-595f-4335-90d6-e61e39109051"
   },
   "outputs": [
    {
     "name": "stdout",
     "output_type": "stream",
     "text": [
      "('1.14.6', '2.1.2', '0.19.2', '1.11.0-rc2', '2.1.6')\n"
     ]
    }
   ],
   "source": [
    "import numpy, matplotlib, sklearn, tensorflow, keras\n",
    "print(numpy.__version__, matplotlib.__version__, sklearn.__version__, tensorflow.__version__, keras.__version__)"
   ]
  },
  {
   "cell_type": "markdown",
   "metadata": {
    "colab_type": "text",
    "id": "i8f8eukUV_I-"
   },
   "source": [
    "다음 장에서는 딥러닝 알고리즘의 핵심인 인공 신경망(artificial neural network)의 핵심인 회귀와 로지스틱 회귀에 대해 알아 보겠습니다. 사실 로지스틱 회귀는 가장 작은 인공 신경망이라고 볼 수 있습니다. 자 그럼 본격적으로 시작해 볼까요?"
   ]
  }
 ],
 "metadata": {
  "colab": {
   "collapsed_sections": [],
   "name": "2.최소한의도구로시작합니다.ipynb",
   "provenance": [],
   "version": "0.3.2"
  },
  "kernelspec": {
   "display_name": "Python 3",
   "language": "python",
   "name": "python3"
  },
  "language_info": {
   "codemirror_mode": {
    "name": "ipython",
    "version": 3
   },
   "file_extension": ".py",
   "mimetype": "text/x-python",
   "name": "python",
   "nbconvert_exporter": "python",
   "pygments_lexer": "ipython3",
   "version": "3.6.6"
  }
 },
 "nbformat": 4,
 "nbformat_minor": 1
}
