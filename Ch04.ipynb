{
 "cells": [
  {
   "cell_type": "code",
   "execution_count": 1,
   "metadata": {},
   "outputs": [],
   "source": [
    "import numpy as np\n",
    "import matplotlib.pyplot as plt"
   ]
  },
  {
   "cell_type": "code",
   "execution_count": 2,
   "metadata": {},
   "outputs": [],
   "source": [
    "from sklearn.datasets import load_breast_cancer"
   ]
  },
  {
   "cell_type": "code",
   "execution_count": 3,
   "metadata": {},
   "outputs": [],
   "source": [
    "cancer = load_breast_cancer()"
   ]
  },
  {
   "cell_type": "code",
   "execution_count": 4,
   "metadata": {},
   "outputs": [
    {
     "name": "stdout",
     "output_type": "stream",
     "text": [
      "(569, 30) (569,)\n"
     ]
    }
   ],
   "source": [
    "print(cancer.data.shape, cancer.target.shape)"
   ]
  },
  {
   "cell_type": "code",
   "execution_count": 5,
   "metadata": {},
   "outputs": [
    {
     "data": {
      "text/plain": [
       "array([[1.799e+01, 1.038e+01, 1.228e+02, 1.001e+03, 1.184e-01, 2.776e-01,\n",
       "        3.001e-01, 1.471e-01, 2.419e-01, 7.871e-02, 1.095e+00, 9.053e-01,\n",
       "        8.589e+00, 1.534e+02, 6.399e-03, 4.904e-02, 5.373e-02, 1.587e-02,\n",
       "        3.003e-02, 6.193e-03, 2.538e+01, 1.733e+01, 1.846e+02, 2.019e+03,\n",
       "        1.622e-01, 6.656e-01, 7.119e-01, 2.654e-01, 4.601e-01, 1.189e-01],\n",
       "       [2.057e+01, 1.777e+01, 1.329e+02, 1.326e+03, 8.474e-02, 7.864e-02,\n",
       "        8.690e-02, 7.017e-02, 1.812e-01, 5.667e-02, 5.435e-01, 7.339e-01,\n",
       "        3.398e+00, 7.408e+01, 5.225e-03, 1.308e-02, 1.860e-02, 1.340e-02,\n",
       "        1.389e-02, 3.532e-03, 2.499e+01, 2.341e+01, 1.588e+02, 1.956e+03,\n",
       "        1.238e-01, 1.866e-01, 2.416e-01, 1.860e-01, 2.750e-01, 8.902e-02],\n",
       "       [1.969e+01, 2.125e+01, 1.300e+02, 1.203e+03, 1.096e-01, 1.599e-01,\n",
       "        1.974e-01, 1.279e-01, 2.069e-01, 5.999e-02, 7.456e-01, 7.869e-01,\n",
       "        4.585e+00, 9.403e+01, 6.150e-03, 4.006e-02, 3.832e-02, 2.058e-02,\n",
       "        2.250e-02, 4.571e-03, 2.357e+01, 2.553e+01, 1.525e+02, 1.709e+03,\n",
       "        1.444e-01, 4.245e-01, 4.504e-01, 2.430e-01, 3.613e-01, 8.758e-02]])"
      ]
     },
     "execution_count": 5,
     "metadata": {},
     "output_type": "execute_result"
    }
   ],
   "source": [
    "cancer.data[:3]"
   ]
  },
  {
   "cell_type": "code",
   "execution_count": 6,
   "metadata": {},
   "outputs": [
    {
     "data": {
      "text/plain": [
       "(array([0, 1]), array([212, 357]))"
      ]
     },
     "execution_count": 6,
     "metadata": {},
     "output_type": "execute_result"
    }
   ],
   "source": [
    "np.unique(cancer.target, return_counts=True)"
   ]
  },
  {
   "cell_type": "code",
   "execution_count": 7,
   "metadata": {},
   "outputs": [
    {
     "data": {
      "image/png": "[encoded data removed]",
      "text/plain": [
       "<Figure size 432x288 with 1 Axes>"
      ]
     },
     "metadata": {
      "needs_background": "light"
     },
     "output_type": "display_data"
    }
   ],
   "source": [
    "plt.boxplot(cancer.data)\n",
    "plt.show()"
   ]
  },
  {
   "cell_type": "code",
   "execution_count": 8,
   "metadata": {},
   "outputs": [],
   "source": [
    "X = cancer.data\n",
    "y = cancer.target"
   ]
  },
  {
   "cell_type": "code",
   "execution_count": 9,
   "metadata": {},
   "outputs": [],
   "source": [
    "np.random.seed(42)"
   ]
  },
  {
   "cell_type": "code",
   "execution_count": 10,
   "metadata": {},
   "outputs": [],
   "source": [
    "class LogisticNeuron:\n",
    "    \n",
    "    def __init__(self):\n",
    "        self.w = None\n",
    "        \n",
    "    def forpass(self, x):\n",
    "        x = np.insert(x, 1, 0)    # 편향을 추가합니다\n",
    "        z = np.sum(x * self.w)    # 직선 방정식을 계산합니다\n",
    "        return z\n",
    "\n",
    "    def backprop(self, x, err):\n",
    "        x = np.insert(x, 1, 0)   # 편향을 추가합니다\n",
    "        w_grad = x * err         # 가중치에 대한 그래디언트를 계산합니다\n",
    "        return w_grad\n",
    "    \n",
    "    def fit(self, X, y, epochs=100):\n",
    "        self.w = np.random.uniform(-1, 1, X.shape[1]+1) # 가중치를 초기화합니다\n",
    "        for i in range(epochs):                    # 에포크만큼 반복합니다\n",
    "            for x_i, y_i in zip(X, y):             # 모든 샘플에 대해 반복합니다\n",
    "                z = self.forpass(x_i)              # 정방향 계산\n",
    "                g = self.activation(z)             # 활성화 함수 적용\n",
    "                error = y_i - g                    # 오차 계산\n",
    "                w_grad = self.backprop(x_i, error) # 역방향 계산\n",
    "                self.w += w_grad                   # 가중치 업데이트\n",
    "                \n",
    "    def activation(self, z):\n",
    "        g = 1 / (1 + np.exp(-z))                   # 시그모이드 계산\n",
    "        return g\n",
    "    \n",
    "    def predict(self, x):\n",
    "        z = self.forpass(x)                        # 정방향 계산\n",
    "        g = self.activation(z)                     # 활성화 함수 적용\n",
    "        return g >= 0.5"
   ]
  },
  {
   "cell_type": "code",
   "execution_count": 11,
   "metadata": {},
   "outputs": [],
   "source": [
    "neuron = LogisticNeuron()\n",
    "neuron.fit(X, y)"
   ]
  },
  {
   "cell_type": "code",
   "execution_count": 12,
   "metadata": {},
   "outputs": [
    {
     "name": "stdout",
     "output_type": "stream",
     "text": [
      "0.7135325131810193\n"
     ]
    }
   ],
   "source": [
    "count = 0\n",
    "for x_i, y_i in zip(X, y):\n",
    "    if neuron.predict(x_i) == y_i:\n",
    "        count += 1\n",
    "print(count/X.shape[0])"
   ]
  },
  {
   "cell_type": "code",
   "execution_count": 13,
   "metadata": {},
   "outputs": [],
   "source": [
    "class Layer:\n",
    "    \n",
    "    def __init__(self):\n",
    "        self.w = None\n",
    "        \n",
    "    def add_bias(self, X):\n",
    "        a_column_all_1 = np.ones((X.shape[0], 1))   # 모두 1로 채워진 컬럼 벡터를 만듭니다\n",
    "        return np.hstack((a_column_all_1, X))       # 행렬의 맨 앞에 컬럼 벡터를 추가합니다\n",
    "    \n",
    "    def forpass(self, X):\n",
    "        X_b = self.add_bias(X)     # 편향을 추가합니다\n",
    "        z = np.dot(X_b, self.w)    # 샘플마다 가중치를 곱하여 더합니다\n",
    "        return z\n",
    "\n",
    "    def backprop(self, x, err):\n",
    "        X_b = self.add_bias(X)\n",
    "        w_grad = np.dot(X_b.T, err) / X.shape[0]  # 가중치에 대한 그래디언트를 계산합니다\n",
    "        return w_grad\n",
    "    \n",
    "    def fit(self, X, y, epochs=100):\n",
    "        self.w = np.random.uniform(-1, 1, (X.shape[1]+1, 1)) # 가중치를 초기화합니다\n",
    "        y = y.reshape(-1, 1)               # 컬럼 벡터로 변환합니다\n",
    "        for i in range(epochs):            # 에포크만큼 반복합니다\n",
    "            z = self.forpass(X)            # 정방향 계산\n",
    "            g = self.activation(z)         # 활성화 함수 적용\n",
    "            err = y - g                    # 오차 계산\n",
    "            w_grad = self.backprop(X, err) # 역방향 계산\n",
    "            self.w += w_grad               # 가중치 업데이트\n",
    "\n",
    "    def activation(self, z):\n",
    "        g = 1 / (1 + np.exp(-z))           # 시그모이드 계산\n",
    "        return g\n",
    "    \n",
    "    def predict(self, X):\n",
    "        z = self.forpass(X)                # 정방향 계산\n",
    "        return z >= 0"
   ]
  },
  {
   "cell_type": "code",
   "execution_count": 14,
   "metadata": {},
   "outputs": [],
   "source": [
    "np.random.seed(42)"
   ]
  },
  {
   "cell_type": "code",
   "execution_count": 15,
   "metadata": {},
   "outputs": [],
   "source": [
    "layer = Layer()\n",
    "layer.fit(X, y)"
   ]
  },
  {
   "cell_type": "code",
   "execution_count": 16,
   "metadata": {},
   "outputs": [
    {
     "data": {
      "text/plain": [
       "0.7135325131810193"
      ]
     },
     "execution_count": 16,
     "metadata": {},
     "output_type": "execute_result"
    }
   ],
   "source": [
    "np.mean(layer.predict(X) == y.reshape(-1, 1))"
   ]
  },
  {
   "cell_type": "code",
   "execution_count": null,
   "metadata": {},
   "outputs": [],
   "source": []
  }
 ],
 "metadata": {
  "kernelspec": {
   "display_name": "Python 3",
   "language": "python",
   "name": "python3"
  },
  "language_info": {
   "codemirror_mode": {
    "name": "ipython",
    "version": 3
   },
   "file_extension": ".py",
   "mimetype": "text/x-python",
   "name": "python",
   "nbconvert_exporter": "python",
   "pygments_lexer": "ipython3",
   "version": "3.6.6"
  }
 },
 "nbformat": 4,
 "nbformat_minor": 2
}
